{
 "cells": [
  {
   "cell_type": "markdown",
   "id": "69c44f2c",
   "metadata": {},
   "source": [
    "7. Answer the following questions  using dataset provided below:\n",
    "\n",
    "    1. What is the % of sessions with an intention to book a scooter?\n",
    "    2. What is the % of sessions with a successful booking? \n",
    "    3. What determines, according to you, an intention to book?\n",
    "    4. What are factors, according to you, determining a successful booking? \n",
    "    5. Do you have any hypotheses after exploring this data? If yes, please add them. "
   ]
  },
  {
   "cell_type": "code",
   "execution_count": 1,
   "id": "b23615bd",
   "metadata": {},
   "outputs": [],
   "source": [
    "import numpy as np\n",
    "import pandas as pd\n",
    "import matplotlib.pyplot as plt"
   ]
  },
  {
   "cell_type": "code",
   "execution_count": 5,
   "id": "78c26265",
   "metadata": {},
   "outputs": [],
   "source": [
    "df = pd.read_csv('mobile_events_2020.csv',delimiter=';')"
   ]
  },
  {
   "cell_type": "code",
   "execution_count": 8,
   "id": "8bb6d879",
   "metadata": {},
   "outputs": [
    {
     "data": {
      "text/html": [
       "<div>\n",
       "<style scoped>\n",
       "    .dataframe tbody tr th:only-of-type {\n",
       "        vertical-align: middle;\n",
       "    }\n",
       "\n",
       "    .dataframe tbody tr th {\n",
       "        vertical-align: top;\n",
       "    }\n",
       "\n",
       "    .dataframe thead th {\n",
       "        text-align: right;\n",
       "    }\n",
       "</style>\n",
       "<table border=\"1\" class=\"dataframe\">\n",
       "  <thead>\n",
       "    <tr style=\"text-align: right;\">\n",
       "      <th></th>\n",
       "      <th>anonymous_id</th>\n",
       "      <th>business_zoned</th>\n",
       "      <th>context_app_version</th>\n",
       "      <th>context_device_id</th>\n",
       "      <th>context_os_name</th>\n",
       "      <th>event_name</th>\n",
       "      <th>received_at</th>\n",
       "      <th>created_at</th>\n",
       "    </tr>\n",
       "  </thead>\n",
       "  <tbody>\n",
       "    <tr>\n",
       "      <th>0</th>\n",
       "      <td>9DDC5BCD-0477-4E83-A32A-51013DA0A4E7</td>\n",
       "      <td>Hamburg</td>\n",
       "      <td>3.1.13</td>\n",
       "      <td>7A718FF6-584F-40E2-939D-224231295B1E</td>\n",
       "      <td>iOS</td>\n",
       "      <td>Out-Of-Business Zone View Shown</td>\n",
       "      <td>2020-09-01 23:59:44</td>\n",
       "      <td>2020-09-01 23:59:18</td>\n",
       "    </tr>\n",
       "    <tr>\n",
       "      <th>1</th>\n",
       "      <td>5592E78E-CE87-4258-B8D7-DD834A687A1E</td>\n",
       "      <td>Hamburg</td>\n",
       "      <td>3.1.13</td>\n",
       "      <td>11D0CB16-DA38-4565-9C3B-066E7877856C</td>\n",
       "      <td>iOS</td>\n",
       "      <td>Application Opened</td>\n",
       "      <td>2020-09-01 23:59:41</td>\n",
       "      <td>2020-09-01 23:59:35</td>\n",
       "    </tr>\n",
       "    <tr>\n",
       "      <th>2</th>\n",
       "      <td>5592E78E-CE87-4258-B8D7-DD834A687A1E</td>\n",
       "      <td>Hamburg</td>\n",
       "      <td>3.1.13</td>\n",
       "      <td>11D0CB16-DA38-4565-9C3B-066E7877856C</td>\n",
       "      <td>iOS</td>\n",
       "      <td>Ride Done - Successful</td>\n",
       "      <td>2020-09-01 23:59:41</td>\n",
       "      <td>2020-09-01 23:59:37</td>\n",
       "    </tr>\n",
       "    <tr>\n",
       "      <th>3</th>\n",
       "      <td>5592E78E-CE87-4258-B8D7-DD834A687A1E</td>\n",
       "      <td>Hamburg</td>\n",
       "      <td>3.1.13</td>\n",
       "      <td>11D0CB16-DA38-4565-9C3B-066E7877856C</td>\n",
       "      <td>iOS</td>\n",
       "      <td>Application Opened</td>\n",
       "      <td>2020-09-01 23:59:36</td>\n",
       "      <td>2020-09-01 23:37:46</td>\n",
       "    </tr>\n",
       "    <tr>\n",
       "      <th>4</th>\n",
       "      <td>5592E78E-CE87-4258-B8D7-DD834A687A1E</td>\n",
       "      <td>Hamburg</td>\n",
       "      <td>3.1.13</td>\n",
       "      <td>11D0CB16-DA38-4565-9C3B-066E7877856C</td>\n",
       "      <td>iOS</td>\n",
       "      <td>Ride Done - Unsuccessful</td>\n",
       "      <td>2020-09-01 23:59:36</td>\n",
       "      <td>2020-09-01 23:37:52</td>\n",
       "    </tr>\n",
       "    <tr>\n",
       "      <th>...</th>\n",
       "      <td>...</td>\n",
       "      <td>...</td>\n",
       "      <td>...</td>\n",
       "      <td>...</td>\n",
       "      <td>...</td>\n",
       "      <td>...</td>\n",
       "      <td>...</td>\n",
       "      <td>...</td>\n",
       "    </tr>\n",
       "    <tr>\n",
       "      <th>102417</th>\n",
       "      <td>7C6780F1-B0F4-4525-B008-09591C5DD214</td>\n",
       "      <td>Hamburg</td>\n",
       "      <td>3.1.13</td>\n",
       "      <td>0B5D7461-69F7-436A-8960-B806EEDCA5B4</td>\n",
       "      <td>iOS</td>\n",
       "      <td>Qr Scanner - Enter Number</td>\n",
       "      <td>2020-09-01 00:00:05</td>\n",
       "      <td>2020-08-31 23:59:50</td>\n",
       "    </tr>\n",
       "    <tr>\n",
       "      <th>102418</th>\n",
       "      <td>E1F50677-B43A-47DE-88A9-BD5A552B7D9E</td>\n",
       "      <td>Hamburg</td>\n",
       "      <td>3.1.13</td>\n",
       "      <td>0D0FD67D-303A-4CD6-8C8B-8F033204ACED</td>\n",
       "      <td>iOS</td>\n",
       "      <td>Application Opened</td>\n",
       "      <td>2020-09-01 00:00:04</td>\n",
       "      <td>2020-08-31 23:59:59</td>\n",
       "    </tr>\n",
       "    <tr>\n",
       "      <th>102419</th>\n",
       "      <td>3569EA33-48C7-4E02-8B22-9E613C40481C</td>\n",
       "      <td>Hamburg</td>\n",
       "      <td>3.1.13</td>\n",
       "      <td>0CBB29F5-548F-4A88-B4A3-0284FC03F1FD</td>\n",
       "      <td>iOS</td>\n",
       "      <td>Qr Scanner - Cancel</td>\n",
       "      <td>2020-09-01 00:00:03</td>\n",
       "      <td>2020-08-31 23:59:55</td>\n",
       "    </tr>\n",
       "    <tr>\n",
       "      <th>102420</th>\n",
       "      <td>46f981e2-d66d-43da-922d-38f4c14d02dd</td>\n",
       "      <td>Hamburg</td>\n",
       "      <td>3.1.9</td>\n",
       "      <td>46f981e2-d66d-43da-922d-38f4c14d02dd</td>\n",
       "      <td>Android</td>\n",
       "      <td>Scooter Selected - Auto</td>\n",
       "      <td>2020-09-01 00:00:03</td>\n",
       "      <td>2020-08-31 23:59:41</td>\n",
       "    </tr>\n",
       "    <tr>\n",
       "      <th>102421</th>\n",
       "      <td>7e842b89-f8e9-492d-978d-8dda318eca15</td>\n",
       "      <td>Hamburg</td>\n",
       "      <td>3.1.9</td>\n",
       "      <td>7e842b89-f8e9-492d-978d-8dda318eca15</td>\n",
       "      <td>Android</td>\n",
       "      <td>Scooter Selected - Auto</td>\n",
       "      <td>2020-09-01 00:00:02</td>\n",
       "      <td>2020-08-31 23:59:58</td>\n",
       "    </tr>\n",
       "  </tbody>\n",
       "</table>\n",
       "<p>102422 rows × 8 columns</p>\n",
       "</div>"
      ],
      "text/plain": [
       "                                anonymous_id business_zoned  \\\n",
       "0       9DDC5BCD-0477-4E83-A32A-51013DA0A4E7        Hamburg   \n",
       "1       5592E78E-CE87-4258-B8D7-DD834A687A1E        Hamburg   \n",
       "2       5592E78E-CE87-4258-B8D7-DD834A687A1E        Hamburg   \n",
       "3       5592E78E-CE87-4258-B8D7-DD834A687A1E        Hamburg   \n",
       "4       5592E78E-CE87-4258-B8D7-DD834A687A1E        Hamburg   \n",
       "...                                      ...            ...   \n",
       "102417  7C6780F1-B0F4-4525-B008-09591C5DD214        Hamburg   \n",
       "102418  E1F50677-B43A-47DE-88A9-BD5A552B7D9E        Hamburg   \n",
       "102419  3569EA33-48C7-4E02-8B22-9E613C40481C        Hamburg   \n",
       "102420  46f981e2-d66d-43da-922d-38f4c14d02dd        Hamburg   \n",
       "102421  7e842b89-f8e9-492d-978d-8dda318eca15        Hamburg   \n",
       "\n",
       "       context_app_version                     context_device_id  \\\n",
       "0                   3.1.13  7A718FF6-584F-40E2-939D-224231295B1E   \n",
       "1                   3.1.13  11D0CB16-DA38-4565-9C3B-066E7877856C   \n",
       "2                   3.1.13  11D0CB16-DA38-4565-9C3B-066E7877856C   \n",
       "3                   3.1.13  11D0CB16-DA38-4565-9C3B-066E7877856C   \n",
       "4                   3.1.13  11D0CB16-DA38-4565-9C3B-066E7877856C   \n",
       "...                    ...                                   ...   \n",
       "102417              3.1.13  0B5D7461-69F7-436A-8960-B806EEDCA5B4   \n",
       "102418              3.1.13  0D0FD67D-303A-4CD6-8C8B-8F033204ACED   \n",
       "102419              3.1.13  0CBB29F5-548F-4A88-B4A3-0284FC03F1FD   \n",
       "102420               3.1.9  46f981e2-d66d-43da-922d-38f4c14d02dd   \n",
       "102421               3.1.9  7e842b89-f8e9-492d-978d-8dda318eca15   \n",
       "\n",
       "       context_os_name                       event_name          received_at  \\\n",
       "0                  iOS  Out-Of-Business Zone View Shown  2020-09-01 23:59:44   \n",
       "1                  iOS               Application Opened  2020-09-01 23:59:41   \n",
       "2                  iOS           Ride Done - Successful  2020-09-01 23:59:41   \n",
       "3                  iOS               Application Opened  2020-09-01 23:59:36   \n",
       "4                  iOS         Ride Done - Unsuccessful  2020-09-01 23:59:36   \n",
       "...                ...                              ...                  ...   \n",
       "102417             iOS        Qr Scanner - Enter Number  2020-09-01 00:00:05   \n",
       "102418             iOS               Application Opened  2020-09-01 00:00:04   \n",
       "102419             iOS              Qr Scanner - Cancel  2020-09-01 00:00:03   \n",
       "102420         Android          Scooter Selected - Auto  2020-09-01 00:00:03   \n",
       "102421         Android          Scooter Selected - Auto  2020-09-01 00:00:02   \n",
       "\n",
       "                 created_at  \n",
       "0       2020-09-01 23:59:18  \n",
       "1       2020-09-01 23:59:35  \n",
       "2       2020-09-01 23:59:37  \n",
       "3       2020-09-01 23:37:46  \n",
       "4       2020-09-01 23:37:52  \n",
       "...                     ...  \n",
       "102417  2020-08-31 23:59:50  \n",
       "102418  2020-08-31 23:59:59  \n",
       "102419  2020-08-31 23:59:55  \n",
       "102420  2020-08-31 23:59:41  \n",
       "102421  2020-08-31 23:59:58  \n",
       "\n",
       "[102422 rows x 8 columns]"
      ]
     },
     "execution_count": 8,
     "metadata": {},
     "output_type": "execute_result"
    }
   ],
   "source": [
    "df"
   ]
  },
  {
   "cell_type": "code",
   "execution_count": 7,
   "id": "10c77d91",
   "metadata": {},
   "outputs": [
    {
     "data": {
      "text/plain": [
       "anonymous_id           object\n",
       "business_zoned         object\n",
       "context_app_version    object\n",
       "context_device_id      object\n",
       "context_os_name        object\n",
       "event_name             object\n",
       "received_at            object\n",
       "created_at             object\n",
       "dtype: object"
      ]
     },
     "execution_count": 7,
     "metadata": {},
     "output_type": "execute_result"
    }
   ],
   "source": [
    "df.dtypes"
   ]
  },
  {
   "cell_type": "code",
   "execution_count": 20,
   "id": "59c9fc93",
   "metadata": {},
   "outputs": [
    {
     "data": {
      "text/plain": [
       "anonymous_id           0\n",
       "business_zoned         0\n",
       "context_app_version    0\n",
       "context_device_id      0\n",
       "context_os_name        0\n",
       "event_name             0\n",
       "received_at            0\n",
       "created_at             0\n",
       "dtype: int64"
      ]
     },
     "execution_count": 20,
     "metadata": {},
     "output_type": "execute_result"
    }
   ],
   "source": [
    "# due to lack of data information we consider there are no duplicate values at all here\n",
    "df.isnull().sum()"
   ]
  },
  {
   "cell_type": "markdown",
   "id": "15e8f931",
   "metadata": {},
   "source": [
    "# 1. What is the % of sessions with an intention to book a scooter?"
   ]
  },
  {
   "cell_type": "code",
   "execution_count": 26,
   "id": "bc515048",
   "metadata": {},
   "outputs": [
    {
     "data": {
      "text/plain": [
       "array(['Scooter Selected - User', 'Scooter Selected - Auto',\n",
       "       'Play Sound From Scooter',\n",
       "       'Qr Scanner - Scan Failed - Scooter Not Available',\n",
       "       'Qr Scanner - Scan Failed - Not Our Scooter'], dtype=object)"
      ]
     },
     "execution_count": 26,
     "metadata": {},
     "output_type": "execute_result"
    }
   ],
   "source": [
    "# No null values\n",
    "scooter_df = df[df['event_name'].str.contains('Scooter')]\n",
    "scooter_df['event_name'].unique()"
   ]
  },
  {
   "cell_type": "markdown",
   "id": "b1a6a423",
   "metadata": {},
   "source": [
    "From the above cell we can conclude that we have 5 events that related to Scooter. \n",
    "Out of 5 only four are related to Scooter booking: 'Scooter Selected - User', 'Scooter Selected - Auto' and 'Qr Scanner - Scan Failed - Scooter Not Available'\n",
    "\n",
    "So we will count the number of rows with these three items."
   ]
  },
  {
   "cell_type": "code",
   "execution_count": 48,
   "id": "a5276bb3",
   "metadata": {},
   "outputs": [],
   "source": [
    "scooter_events = list(scooter_df['event_name'].unique())\n",
    "events_with_intention_to_book_scooters = [scooter_events[i] for i in [0,1,3,4]]"
   ]
  },
  {
   "cell_type": "code",
   "execution_count": 49,
   "id": "070fdca3",
   "metadata": {},
   "outputs": [
    {
     "data": {
      "text/plain": [
       "['Scooter Selected - User',\n",
       " 'Scooter Selected - Auto',\n",
       " 'Qr Scanner - Scan Failed - Scooter Not Available',\n",
       " 'Qr Scanner - Scan Failed - Not Our Scooter']"
      ]
     },
     "execution_count": 49,
     "metadata": {},
     "output_type": "execute_result"
    }
   ],
   "source": [
    "events_with_intention_to_book_scooters"
   ]
  },
  {
   "cell_type": "code",
   "execution_count": 50,
   "id": "3869b98d",
   "metadata": {},
   "outputs": [],
   "source": [
    "intention_to_book_scooter = len(df[df['event_name'].isin(events_with_intention_to_book_scooters)])\n",
    "total_events = len(df)\n",
    "session_percentage = (intention_to_book_scooter/total_events)*100"
   ]
  },
  {
   "cell_type": "code",
   "execution_count": 51,
   "id": "1bbd2ae3",
   "metadata": {},
   "outputs": [
    {
     "name": "stdout",
     "output_type": "stream",
     "text": [
      "% of sessions with intention to book scooter is:  16.78\n"
     ]
    }
   ],
   "source": [
    "print('% of sessions with intention to book scooter is: ',round(session_percentage,2))"
   ]
  },
  {
   "cell_type": "markdown",
   "id": "778609a6",
   "metadata": {},
   "source": [
    "# 2. What is the % of sessions with a successful booking?"
   ]
  },
  {
   "cell_type": "code",
   "execution_count": 54,
   "id": "bc563c0d",
   "metadata": {},
   "outputs": [],
   "source": [
    "# events where scooter selected successfully are successful bookings\n",
    "successful_bookings = events_with_intention_to_book_scooters[:2]\n",
    "successful_booking_count = len(df[df['event_name'].isin(successful_bookings)])\n",
    "success_percentage = (successful_booking_count / intention_to_book_scooter) *100"
   ]
  },
  {
   "cell_type": "code",
   "execution_count": 55,
   "id": "801ae238",
   "metadata": {},
   "outputs": [
    {
     "name": "stdout",
     "output_type": "stream",
     "text": [
      "successful % of sessions out of attempted booking:  91.55\n"
     ]
    }
   ],
   "source": [
    "print('successful % of sessions out of attempted booking: ',round(success_percentage,2))"
   ]
  },
  {
   "cell_type": "markdown",
   "id": "e73e6c7e",
   "metadata": {},
   "source": [
    "# 3. What determines, according to you, an intention to book?"
   ]
  },
  {
   "cell_type": "markdown",
   "id": "fe816702",
   "metadata": {},
   "source": [
    "Any event name which have successfully booked the scooter or failed to book are an intention to book."
   ]
  },
  {
   "cell_type": "markdown",
   "id": "7ba902b7",
   "metadata": {},
   "source": [
    "# 4. What are factors, according to you, determining a successful booking?"
   ]
  },
  {
   "cell_type": "markdown",
   "id": "47d748e8",
   "metadata": {},
   "source": [
    "Factors determining a successful booking are: \n",
    "1. Availability of Vehicle\n",
    "2. Successful transaction\n",
    "3. Stable network\n",
    "4. Active account with balance greater than trasaction amount\n",
    "5. Correct QR"
   ]
  },
  {
   "cell_type": "markdown",
   "id": "01acfc67",
   "metadata": {},
   "source": [
    "# 5. Do you have any hypotheses after exploring this data? If yes, please add them."
   ]
  },
  {
   "cell_type": "code",
   "execution_count": 47,
   "id": "87c597cc",
   "metadata": {},
   "outputs": [
    {
     "data": {
      "text/plain": [
       "array(['Out-Of-Business Zone View Shown', 'Application Opened',\n",
       "       'Ride Done - Successful', 'Ride Done - Unsuccessful',\n",
       "       'Reduced Speed Snackbar Shown - Out Of Business Zone',\n",
       "       'Vehicle Selected - User', 'Vehicle Selected - Auto',\n",
       "       'Qr Scanner Tapped', 'Qr Scanner - Scanned Succeeded',\n",
       "       'Ride Started - Pre-Ride', 'Ride Started - Successful',\n",
       "       'Application Updated', 'Scooter Selected - User',\n",
       "       'Scooter Selected - Auto',\n",
       "       'Qr Scanner - Scan Failed - Vehicle Not Available',\n",
       "       'Paypal Added Successfully', 'List Of Payment Shown',\n",
       "       'Payment Method Chosen', 'Personal Details Added Succeeded',\n",
       "       'Payment Method Screen Opened', 'Phone Number Entered',\n",
       "       'Terms And Privacy Policy Accepted', 'Qr Scanner - Enter Number',\n",
       "       'Ride Started - Unsuccessful', 'Add Payment Method',\n",
       "       'Sidebar Opened', 'Redeem Code', 'Play Sound From Vehicle',\n",
       "       'Map Legend Clicked', 'Rating Screen Closed - Maybe Later',\n",
       "       'Payment Details Screen Opened', 'Play Sound From Scooter',\n",
       "       'Qr Scanner - Cancel', 'Payment Opened', 'Qr Scanner - Flashlight',\n",
       "       'Signup Completed', 'Credit Card Details Accepted', 'Safety',\n",
       "       'Help - Booking', 'No-Parking View Shown', 'Signup Started',\n",
       "       'Rating Screen Closed - Not Interested', 'Help - Sidebar',\n",
       "       'Credit Card Details Rejected', 'Layover - Tier Not Available Yet',\n",
       "       'Account Setup Opened', 'Paypal Dialogue Shown',\n",
       "       'Paypal Dialogue - Okay Pressed', 'Ride Done - Not Charged',\n",
       "       'Qr Scanner - Scan Failed - Scooter Not Available',\n",
       "       'Ride Cancelled', 'Paypal Cancelled',\n",
       "       'Qr Scanner - Scan Failed - Not Our Scooter',\n",
       "       'Paypal Dialogue - Cancel Pressed', 'Paypal Error Shown',\n",
       "       'Location Services Dialogue Opened', 'Location Services Enabled',\n",
       "       'Signup Complete', 'Customer Blocked - Phone Validation',\n",
       "       'Phone Number Blocked - Phone Validation',\n",
       "       'Qr Scanner - Scan Failed - Not Our Vehicle'], dtype=object)"
      ]
     },
     "execution_count": 47,
     "metadata": {},
     "output_type": "execute_result"
    }
   ],
   "source": [
    "df['event_name'].unique()"
   ]
  },
  {
   "cell_type": "code",
   "execution_count": null,
   "id": "9737c395",
   "metadata": {},
   "outputs": [],
   "source": []
  }
 ],
 "metadata": {
  "kernelspec": {
   "display_name": "Python 3",
   "language": "python",
   "name": "python3"
  },
  "language_info": {
   "codemirror_mode": {
    "name": "ipython",
    "version": 3
   },
   "file_extension": ".py",
   "mimetype": "text/x-python",
   "name": "python",
   "nbconvert_exporter": "python",
   "pygments_lexer": "ipython3",
   "version": "3.8.8"
  }
 },
 "nbformat": 4,
 "nbformat_minor": 5
}
