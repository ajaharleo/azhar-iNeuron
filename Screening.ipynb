{
 "cells": [
  {
   "cell_type": "markdown",
   "id": "e4622875",
   "metadata": {},
   "source": [
    "# Python Screening Assignment"
   ]
  },
  {
   "cell_type": "markdown",
   "id": "f6a37518",
   "metadata": {},
   "source": [
    "### 1. Create a function in python to read the text file and replace specific content of the file."
   ]
  },
  {
   "cell_type": "code",
   "execution_count": 16,
   "id": "aa168da5",
   "metadata": {},
   "outputs": [],
   "source": [
    "def replace_string(file_location,string_in_text,string_to_replace):\n",
    "    try:\n",
    "        '''This function will read file from giving location then replace the string 'string_in_text'\n",
    "        in the file with 'string_to_replace'\n",
    "        '''\n",
    "        input_file = open(file_location,'r+')\n",
    "        file_data = input_file.read()\n",
    "        file_data = file_data.replace(string_in_text,string_to_replace)\n",
    "        input_file.close()\n",
    "        output_file = open(file_location,'w+')\n",
    "        output_file.write(file_data)\n",
    "        output_file.close()\n",
    "    except Exception as e:\n",
    "        print(e)"
   ]
  },
  {
   "cell_type": "code",
   "execution_count": 17,
   "id": "43b6af06",
   "metadata": {},
   "outputs": [],
   "source": [
    "replace_string('example.txt','placement','screening')"
   ]
  },
  {
   "cell_type": "markdown",
   "id": "4e8f95e7",
   "metadata": {},
   "source": [
    "### 2. Demonstrate use of abstract class, multiple inheritance and decorator in python using examples."
   ]
  },
  {
   "cell_type": "markdown",
   "id": "29a1bd65",
   "metadata": {},
   "source": [
    "An abstract class can be considered as Blueprint or skelton of our main class. A class which has one or more abstract methods called an abstract class. An asbtract method is only declared in class not derived. When we have huge units to work on then we only prepare skeleton first then start work."
   ]
  },
  {
   "cell_type": "markdown",
   "id": "b8397f38",
   "metadata": {},
   "source": [
    "We have two methods to create abstract classes\n",
    "1. Subclassing\n",
    "2. ABC (Abstract Base Class) module"
   ]
  },
  {
   "cell_type": "code",
   "execution_count": 1,
   "id": "3c8ce95e",
   "metadata": {},
   "outputs": [],
   "source": [
    "# Abstract class through subclassing\n",
    "\n",
    "class parent:      \n",
    "    def hair_color(self):\n",
    "        pass\n",
    "class child(parent):\n",
    "    def hair_color(self):\n",
    "        print(\"child class\")"
   ]
  },
  {
   "cell_type": "code",
   "execution_count": 3,
   "id": "fe92ff1a",
   "metadata": {},
   "outputs": [],
   "source": [
    "# Abstract class through ABC module\n",
    "from abc import ABC, abstractmethod\n",
    "\n",
    "\n",
    "class PeopleInSchool(ABC):\n",
    "    def __init__(self, first_name, last_name):\n",
    "        self.first_name = first_name\n",
    "        self.last_name = last_name\n",
    "\n",
    "    @property\n",
    "    def full_name(self):\n",
    "        return f\"{self.first_name} {self.last_name}\"\n",
    "\n",
    "    @abstractmethod\n",
    "    def salary_or_fees(self):\n",
    "        pass\n",
    "    \n",
    "    \n",
    "class Teachers(PeopleInSchool):\n",
    "    def __init__(self, first_name, last_name, salary):\n",
    "        super().__init__(first_name, last_name)\n",
    "        self.salary = salary\n",
    "\n",
    "    def salary_or_fees(self):\n",
    "        return self.salary\n",
    "    \n",
    "\n",
    "    \n",
    "class Students(PeopleInSchool):\n",
    "    def __init__(self, first_name, last_name, months, monthly_fees):\n",
    "        super().__init__(first_name, last_name)\n",
    "        self.months = months\n",
    "        self.monthly_fees = monthly_fees\n",
    "\n",
    "    def salary_or_fees(self):\n",
    "        return self.worked_hours * self.rate"
   ]
  },
  {
   "cell_type": "code",
   "execution_count": 21,
   "id": "d5b3cdbe",
   "metadata": {},
   "outputs": [],
   "source": [
    "# INHERITANCE\n",
    "class Class1:\n",
    "    def __init__(self,a,b,c):\n",
    "        self.a = a\n",
    "        self.b = b\n",
    "        self.c = c\n",
    "        \n",
    "    def test(self):\n",
    "        print('method from Class1')\n",
    "        \n",
    "\n",
    "        \n",
    "class Class2:\n",
    "    def __init__(self,p,q,r):\n",
    "        self.p = p\n",
    "        self.q = q\n",
    "        self.r = r\n",
    "        \n",
    "    def test1(self):\n",
    "        print('method from Class2')"
   ]
  },
  {
   "cell_type": "code",
   "execution_count": 22,
   "id": "ed66af5c",
   "metadata": {},
   "outputs": [],
   "source": [
    "class Child1(Class1,Class2):\n",
    "    pass\n",
    "\n",
    "# here variables from Class1 are accessible for class Child1"
   ]
  },
  {
   "cell_type": "code",
   "execution_count": 23,
   "id": "eec0f039",
   "metadata": {},
   "outputs": [],
   "source": [
    "#multiple inheritance\n",
    "# to inherit all variables from all parent classes\n",
    "class Child2(Class1,Class2):\n",
    "    def __init__(self, *args):\n",
    "        Class1.__init__(self, *args)\n",
    "        Class2.__init__(self, *args) \n",
    "# Here variables from both parent class are accessible"
   ]
  },
  {
   "cell_type": "markdown",
   "id": "e138887c",
   "metadata": {},
   "source": [
    "The decorators are used to modify the behaviour of function or class. In Decorators, functions are taken as the argument into another function and then called inside the wrapper function."
   ]
  },
  {
   "cell_type": "code",
   "execution_count": null,
   "id": "edd4fdbc",
   "metadata": {},
   "outputs": [],
   "source": [
    "@basic_decorator\n",
    "def hello_decorator():\n",
    "    print(\"Hello\")\n",
    "\n",
    "'''Above code is equivalent to'''\n",
    "\n",
    "def hello_decorator():\n",
    "    print(\"Heloo\")\n",
    "    \n",
    "hello_decorator = basic_decorator(hello_decorator)"
   ]
  },
  {
   "cell_type": "markdown",
   "id": "14db1d2f",
   "metadata": {},
   "source": [
    "This means decorators are functions which take functions written behind them as input argument."
   ]
  },
  {
   "cell_type": "code",
   "execution_count": null,
   "id": "0ed51b16",
   "metadata": {},
   "outputs": [],
   "source": []
  }
 ],
 "metadata": {
  "kernelspec": {
   "display_name": "Python 3",
   "language": "python",
   "name": "python3"
  },
  "language_info": {
   "codemirror_mode": {
    "name": "ipython",
    "version": 3
   },
   "file_extension": ".py",
   "mimetype": "text/x-python",
   "name": "python",
   "nbconvert_exporter": "python",
   "pygments_lexer": "ipython3",
   "version": "3.8.8"
  }
 },
 "nbformat": 4,
 "nbformat_minor": 5
}
