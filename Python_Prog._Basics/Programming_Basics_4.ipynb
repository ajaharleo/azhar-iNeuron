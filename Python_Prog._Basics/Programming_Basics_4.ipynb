{
 "cells": [
  {
   "cell_type": "markdown",
   "id": "0753aa7d",
   "metadata": {},
   "source": [
    "#### 1. Write a Python Program to Find the Factorial of a Number?  "
   ]
  },
  {
   "cell_type": "code",
   "execution_count": 1,
   "id": "457c83fe",
   "metadata": {},
   "outputs": [
    {
     "name": "stdout",
     "output_type": "stream",
     "text": [
      "Please enter a number: 6\n"
     ]
    },
    {
     "data": {
      "text/plain": [
       "720"
      ]
     },
     "execution_count": 1,
     "metadata": {},
     "output_type": "execute_result"
    }
   ],
   "source": [
    "number = int(input('Please enter a number: '))\n",
    "fact = 1\n",
    "for i in range(1,number+1):\n",
    "    fact*=i\n",
    "fact"
   ]
  },
  {
   "cell_type": "markdown",
   "id": "828cbfcb",
   "metadata": {},
   "source": [
    "#### 2. Write a Python Program to Display the multiplication Table?  "
   ]
  },
  {
   "cell_type": "code",
   "execution_count": 2,
   "id": "01224e0e",
   "metadata": {},
   "outputs": [
    {
     "name": "stdout",
     "output_type": "stream",
     "text": [
      "Please enter a number: 13\n",
      "13\n",
      "26\n",
      "39\n",
      "52\n",
      "65\n",
      "78\n",
      "91\n",
      "104\n",
      "117\n",
      "130\n"
     ]
    }
   ],
   "source": [
    "number = int(input('Please enter a number: '))\n",
    "for i in range(1,11):\n",
    "    print(i*number)"
   ]
  },
  {
   "cell_type": "markdown",
   "id": "36f4a571",
   "metadata": {},
   "source": [
    "#### 3. Write a Python Program to Print the Fibonacci sequence? "
   ]
  },
  {
   "cell_type": "code",
   "execution_count": 6,
   "id": "ce5621c4",
   "metadata": {},
   "outputs": [
    {
     "name": "stdout",
     "output_type": "stream",
     "text": [
      "Please enter number of sequences: 10\n"
     ]
    },
    {
     "data": {
      "text/plain": [
       "[0, 1, 1, 2, 3, 5, 8, 13, 21, 34]"
      ]
     },
     "execution_count": 6,
     "metadata": {},
     "output_type": "execute_result"
    }
   ],
   "source": [
    "number = int(input('Please enter number of sequences: '))\n",
    "a,b=0,1\n",
    "fibonacci = []\n",
    "for i in range(number):\n",
    "    fibonacci.append(a)\n",
    "    a,b=b,a+b\n",
    "fibonacci\n"
   ]
  },
  {
   "cell_type": "markdown",
   "id": "35cd250e",
   "metadata": {},
   "source": [
    "#### 4. Write a Python Program to Check Armstrong Number?  "
   ]
  },
  {
   "cell_type": "code",
   "execution_count": 7,
   "id": "1eed2888",
   "metadata": {},
   "outputs": [
    {
     "name": "stdout",
     "output_type": "stream",
     "text": [
      "Please enter a nnumber to check407\n",
      "407 is an armstrong number\n"
     ]
    }
   ],
   "source": [
    "number = input('Please enter a nnumber to check')\n",
    "sum = 0\n",
    "for i in number:\n",
    "    sum+=(int(i))**len(number)\n",
    "if sum == int(number):\n",
    "    print(f'{number} is an armstrong number')\n",
    "else:\n",
    "    print(f'{number} is not an armstrong number')"
   ]
  },
  {
   "cell_type": "markdown",
   "id": "e427a4cc",
   "metadata": {},
   "source": [
    "#### 5. Write a Python Program to Find Armstrong Number in an Interval?  "
   ]
  },
  {
   "cell_type": "code",
   "execution_count": 12,
   "id": "f99b21e5",
   "metadata": {},
   "outputs": [
    {
     "name": "stdout",
     "output_type": "stream",
     "text": [
      "Please enter a number to get all Armstrong numbers: 1000\n"
     ]
    },
    {
     "data": {
      "text/plain": [
       "[1, 2, 3, 4, 5, 6, 7, 8, 9, 153, 370, 371, 407]"
      ]
     },
     "execution_count": 12,
     "metadata": {},
     "output_type": "execute_result"
    }
   ],
   "source": [
    "number = int(input('Please enter a number to get all Armstrong numbers: '))\n",
    "Armstrong_numbers = []\n",
    "for i in range(1,number+1):\n",
    "    sum = 0\n",
    "    num_string = str(i)\n",
    "    for j in num_string:\n",
    "        sum+=(int(j))**len(num_string)\n",
    "    if sum == i:\n",
    "        Armstrong_numbers.append(i)\n",
    "Armstrong_numbers"
   ]
  },
  {
   "cell_type": "markdown",
   "id": "e6619569",
   "metadata": {},
   "source": [
    "#### 6. Write a Python Program to Find the Sum of Natural Numbers?  "
   ]
  },
  {
   "cell_type": "code",
   "execution_count": 14,
   "id": "09d32598",
   "metadata": {},
   "outputs": [
    {
     "name": "stdout",
     "output_type": "stream",
     "text": [
      "Please enter a number to get sum: 123\n"
     ]
    },
    {
     "data": {
      "text/plain": [
       "7626"
      ]
     },
     "execution_count": 14,
     "metadata": {},
     "output_type": "execute_result"
    }
   ],
   "source": [
    "number = int(input('Please enter a number to get sum: '))\n",
    "sum = 0\n",
    "for i in range(number+1):\n",
    "    sum+=i\n",
    "sum"
   ]
  },
  {
   "cell_type": "code",
   "execution_count": null,
   "id": "ae3f7a96",
   "metadata": {},
   "outputs": [],
   "source": []
  }
 ],
 "metadata": {
  "kernelspec": {
   "display_name": "Python 3",
   "language": "python",
   "name": "python3"
  },
  "language_info": {
   "codemirror_mode": {
    "name": "ipython",
    "version": 3
   },
   "file_extension": ".py",
   "mimetype": "text/x-python",
   "name": "python",
   "nbconvert_exporter": "python",
   "pygments_lexer": "ipython3",
   "version": "3.8.8"
  }
 },
 "nbformat": 4,
 "nbformat_minor": 5
}
