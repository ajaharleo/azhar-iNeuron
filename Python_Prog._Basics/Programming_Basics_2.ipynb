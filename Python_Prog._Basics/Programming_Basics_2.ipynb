{
 "cells": [
  {
   "cell_type": "markdown",
   "id": "e0222a4c",
   "metadata": {},
   "source": [
    "### 1. Write a Python program to convert kilometers to miles? "
   ]
  },
  {
   "cell_type": "code",
   "execution_count": 1,
   "id": "b61ebf60",
   "metadata": {},
   "outputs": [
    {
     "name": "stdout",
     "output_type": "stream",
     "text": [
      "please enter the distance in kilo meters: 101\n",
      "101.0km = 62.758490412200004miles\n"
     ]
    }
   ],
   "source": [
    "KMs  = float(input('please enter the distance in kilo meters: '))\n",
    "miles = KMs * 0.6213711922\n",
    "print( f\"{KMs}km = {miles}miles\")"
   ]
  },
  {
   "cell_type": "markdown",
   "id": "7708b026",
   "metadata": {},
   "source": [
    "### 2.Write a Python program to convert Celsius to Fahrenheit? "
   ]
  },
  {
   "cell_type": "code",
   "execution_count": 2,
   "id": "db5a5ddc",
   "metadata": {},
   "outputs": [
    {
     "name": "stdout",
     "output_type": "stream",
     "text": [
      "please enter the temperature in Celcius: 15\n",
      "15.0 °C = 59.0 °F\n"
     ]
    }
   ],
   "source": [
    "celcius  = float(input('please enter the temperature in Celcius: '))\n",
    "fahrenheit = (9/5)*celcius + 32\n",
    "print( f\"{celcius} °C = {fahrenheit} °F\")"
   ]
  },
  {
   "cell_type": "markdown",
   "id": "c0db87be",
   "metadata": {},
   "source": [
    "### 3. Write a Python program to display calendar?  "
   ]
  },
  {
   "cell_type": "code",
   "execution_count": 3,
   "id": "66b934a8",
   "metadata": {},
   "outputs": [],
   "source": [
    "def calander_month():\n",
    "    '''this function will show the calendar of the year and month given'''\n",
    "    import calendar\n",
    "    y = int(input('Please enter the year : '))\n",
    "    m = int(input('Please enter the month number in int: '))\n",
    "    print(calendar.month(y,m))"
   ]
  },
  {
   "cell_type": "code",
   "execution_count": 4,
   "id": "f1f2ba61",
   "metadata": {},
   "outputs": [
    {
     "name": "stdout",
     "output_type": "stream",
     "text": [
      "Please enter the year : 2022\n",
      "Please enter the month number in int: 1\n",
      "    January 2022\n",
      "Mo Tu We Th Fr Sa Su\n",
      "                1  2\n",
      " 3  4  5  6  7  8  9\n",
      "10 11 12 13 14 15 16\n",
      "17 18 19 20 21 22 23\n",
      "24 25 26 27 28 29 30\n",
      "31\n",
      "\n"
     ]
    }
   ],
   "source": [
    "calander_month()"
   ]
  },
  {
   "cell_type": "markdown",
   "id": "18b0389d",
   "metadata": {},
   "source": [
    "### 4. Write a Python program to solve quadratic equation? "
   ]
  },
  {
   "cell_type": "code",
   "execution_count": 6,
   "id": "de32a241",
   "metadata": {},
   "outputs": [],
   "source": [
    "def quadratic_equation():\n",
    "    '''this function gives the roots of a quadratic equation'''\n",
    "    print('please give the coefficient as in the equation ax2+bx+c=0')\n",
    "    a= int(input('please type value of a: '))\n",
    "    b= int(input('please type value of b: '))\n",
    "    c= int(input('please type value of c: '))\n",
    "    discriminant =  (b**2-4*a*c)**0.5\n",
    "    roots = ((-b+discriminant)/(2*a),(-b-discriminant)/(2*a))\n",
    "    if b**2 == 4*a*c:\n",
    "        print('roots are real and same')\n",
    "    elif b**2 > 4*a*c:\n",
    "        print('roots are real and different')\n",
    "    else:\n",
    "        print('roots are imaginary')\n",
    "    return roots"
   ]
  },
  {
   "cell_type": "code",
   "execution_count": 7,
   "id": "c51b9669",
   "metadata": {},
   "outputs": [
    {
     "name": "stdout",
     "output_type": "stream",
     "text": [
      "please give the coefficient as in the equation ax2+bx+c=0\n",
      "please type value of a: 2\n",
      "please type value of b: 3\n",
      "please type value of c: 5\n",
      "roots are imaginary\n"
     ]
    },
    {
     "data": {
      "text/plain": [
       "((-0.7499999999999999+1.3919410907075054j),\n",
       " (-0.7500000000000001-1.3919410907075054j))"
      ]
     },
     "execution_count": 7,
     "metadata": {},
     "output_type": "execute_result"
    }
   ],
   "source": [
    "quadratic_equation()"
   ]
  },
  {
   "cell_type": "markdown",
   "id": "ec3f7621",
   "metadata": {},
   "source": [
    "### 5.Write a Python program to swap two variables without temp variable? "
   ]
  },
  {
   "cell_type": "code",
   "execution_count": 8,
   "id": "c067850b",
   "metadata": {},
   "outputs": [
    {
     "name": "stdout",
     "output_type": "stream",
     "text": [
      "type value of a: 5\n",
      "type value of b: 12\n",
      "value of a:  12\n",
      "value of b:  5\n"
     ]
    }
   ],
   "source": [
    "a = input('type value of a: ') \n",
    "b = input('type value of b: ') \n",
    "a,b=b,a\n",
    "print('value of a: ',a) \n",
    "print('value of b: ',b) "
   ]
  },
  {
   "cell_type": "code",
   "execution_count": null,
   "id": "16cee327",
   "metadata": {},
   "outputs": [],
   "source": []
  }
 ],
 "metadata": {
  "kernelspec": {
   "display_name": "Python 3",
   "language": "python",
   "name": "python3"
  },
  "language_info": {
   "codemirror_mode": {
    "name": "ipython",
    "version": 3
   },
   "file_extension": ".py",
   "mimetype": "text/x-python",
   "name": "python",
   "nbconvert_exporter": "python",
   "pygments_lexer": "ipython3",
   "version": "3.8.8"
  }
 },
 "nbformat": 4,
 "nbformat_minor": 5
}
