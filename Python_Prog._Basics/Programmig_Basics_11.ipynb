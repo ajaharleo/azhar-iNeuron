{
 "cells": [
  {
   "cell_type": "markdown",
   "id": "721f6283",
   "metadata": {},
   "source": [
    "#### 1.\tWrite a Python program to find words which are greater than given length k?"
   ]
  },
  {
   "cell_type": "code",
   "execution_count": 1,
   "id": "166d5c9a",
   "metadata": {},
   "outputs": [],
   "source": [
    "import logging\n",
    "logging.basicConfig(filename='prog11.log',level=logging.DEBUG,format='%(asctime)s %(levelname)s %(message)s')"
   ]
  },
  {
   "cell_type": "code",
   "execution_count": 3,
   "id": "46101f1f",
   "metadata": {},
   "outputs": [],
   "source": [
    "def words(*args):\n",
    "    try:\n",
    "        '''take multiple words then ask for value of K and return words with length > K'''\n",
    "        logging.info(\"checking words's length\")\n",
    "        standard = int(input('Please give value of K: '))\n",
    "        result = []\n",
    "        for i in args:\n",
    "            if type(i) == str and len(i)> standard:\n",
    "                result.append(i)\n",
    "        return result\n",
    "    except exception as e:\n",
    "        logging.error(e)"
   ]
  },
  {
   "cell_type": "code",
   "execution_count": 4,
   "id": "edc385c5",
   "metadata": {},
   "outputs": [
    {
     "name": "stdout",
     "output_type": "stream",
     "text": [
      "Please give value of K: 5\n"
     ]
    },
    {
     "data": {
      "text/plain": [
       "['batman', 'superman']"
      ]
     },
     "execution_count": 4,
     "metadata": {},
     "output_type": "execute_result"
    }
   ],
   "source": [
    "words('hero','batman','superman','robin')"
   ]
  },
  {
   "cell_type": "markdown",
   "id": "44a58754",
   "metadata": {},
   "source": [
    "#### 2.\tWrite a Python program for removing i-th character from a string?"
   ]
  },
  {
   "cell_type": "code",
   "execution_count": 11,
   "id": "ebffdd03",
   "metadata": {},
   "outputs": [],
   "source": [
    "def string_remval(i,string):\n",
    "    '''take a string and int value then return the string but without ith character'''\n",
    "    logging.info('string_removal function initiated')\n",
    "    try:\n",
    "        if type(string) == str:\n",
    "            string = string[:i-1]+string[i:]\n",
    "        return string\n",
    "    except Exception as e:\n",
    "        logging.error('Error occured: i should be an integer and string should be a str')\n",
    "        logging.error('Error code: ',e)"
   ]
  },
  {
   "cell_type": "code",
   "execution_count": 12,
   "id": "47021660",
   "metadata": {},
   "outputs": [
    {
     "data": {
      "text/plain": [
       "'BlackAdam'"
      ]
     },
     "execution_count": 12,
     "metadata": {},
     "output_type": "execute_result"
    }
   ],
   "source": [
    "string_remval(6,'Black Adam')"
   ]
  },
  {
   "cell_type": "markdown",
   "id": "e6a509e6",
   "metadata": {},
   "source": [
    "#### 3.\tWrite a Python program to split and join a string?"
   ]
  },
  {
   "cell_type": "code",
   "execution_count": 84,
   "id": "2728fe7a",
   "metadata": {},
   "outputs": [],
   "source": [
    "def split_str(split,string):\n",
    "    '''split a string on given split character and return list'''\n",
    "    try:\n",
    "        logging.info('entered split_str function')\n",
    "        result = []\n",
    "        while split in string:\n",
    "            indx = string.index(split) #to know the index of split char\n",
    "            result.append(string[:indx])\n",
    "            string = string[indx+1:]\n",
    "        if len(string)>0: #to get lat item at end of the string\n",
    "            result.append(string)\n",
    "        return result\n",
    "    except Exception as e:\n",
    "        logging.error('Error code: ',e)"
   ]
  },
  {
   "cell_type": "code",
   "execution_count": 87,
   "id": "e5804e21",
   "metadata": {},
   "outputs": [
    {
     "data": {
      "text/plain": [
       "['how', 'you', 'will', 'split', 'us']"
      ]
     },
     "execution_count": 87,
     "metadata": {},
     "output_type": "execute_result"
    }
   ],
   "source": [
    "split_str(' ','how you will split us ')"
   ]
  },
  {
   "cell_type": "code",
   "execution_count": 66,
   "id": "8e7106a2",
   "metadata": {},
   "outputs": [],
   "source": [
    "def join_str(joint, *items):\n",
    "    '''Join the given strings with the joint and return the resulting string'''\n",
    "    try:\n",
    "        logging.info('entering join_str function')\n",
    "        result = ''\n",
    "        for i in items:\n",
    "            if type(i)==str:\n",
    "                result += i +joint\n",
    "            else:\n",
    "                raise Exception('Input should be of str type')\n",
    "        return result[:-1]\n",
    "    except Exception as e:\n",
    "        logging.error('Error code:',e)"
   ]
  },
  {
   "cell_type": "code",
   "execution_count": 67,
   "id": "9d93271a",
   "metadata": {},
   "outputs": [
    {
     "data": {
      "text/plain": [
       "'hello-man-,you-are-not-strong-enough'"
      ]
     },
     "execution_count": 67,
     "metadata": {},
     "output_type": "execute_result"
    }
   ],
   "source": [
    "join_str('-','hello','man',',you','are','not','strong','enough')"
   ]
  },
  {
   "cell_type": "markdown",
   "id": "4ec5a8b0",
   "metadata": {},
   "source": [
    "#### 4.\tWrite a Python to check if a given string is binary string or not?"
   ]
  },
  {
   "cell_type": "code",
   "execution_count": 72,
   "id": "e85b8058",
   "metadata": {},
   "outputs": [],
   "source": [
    "def binary_check(string):\n",
    "    '''return True if given string is binary else return False'''\n",
    "    logging.info('checking binary string')\n",
    "    try:\n",
    "        if type(string)==str:\n",
    "            for i in string:\n",
    "                if i=='0' or i=='1':\n",
    "                    continue\n",
    "                else:\n",
    "                    return False\n",
    "        else:\n",
    "            raise Exception('Input should be a string')\n",
    "        return True\n",
    "    except Exception as e:\n",
    "        logging.error(\"Error code: \",e)"
   ]
  },
  {
   "cell_type": "code",
   "execution_count": 74,
   "id": "9edf9e8b",
   "metadata": {},
   "outputs": [
    {
     "data": {
      "text/plain": [
       "False"
      ]
     },
     "execution_count": 74,
     "metadata": {},
     "output_type": "execute_result"
    }
   ],
   "source": [
    "binary_check('010101001d1110101')"
   ]
  },
  {
   "cell_type": "markdown",
   "id": "15ce6438",
   "metadata": {},
   "source": [
    "#### 5.\tWrite a Python program to find uncommon words from two Strings?"
   ]
  },
  {
   "cell_type": "code",
   "execution_count": 88,
   "id": "6a8313fa",
   "metadata": {},
   "outputs": [],
   "source": [
    "def uncommon(split,str1,str2):\n",
    "    '''return uncommon words from the given two inputs'''\n",
    "    try:\n",
    "        logging.info('Entering uncommon function')\n",
    "        words1 = split_str(split,str1)\n",
    "        words2 = split_str(split,str2)\n",
    "        total_words = words1 + words2\n",
    "        uncommon = []\n",
    "        for i in total_words:\n",
    "            if i not in words1 or i not in words2:\n",
    "                uncommon.append(i)\n",
    "        return uncommon\n",
    "    except Exception as e:\n",
    "        logging.error('Error code: ',e)"
   ]
  },
  {
   "cell_type": "code",
   "execution_count": 90,
   "id": "eb04883e",
   "metadata": {},
   "outputs": [
    {
     "data": {
      "text/plain": [
       "['superman', 'is', 'splitting', 'batman', 'you', 'cant', 'let', 'collapse']"
      ]
     },
     "execution_count": 90,
     "metadata": {},
     "output_type": "execute_result"
    }
   ],
   "source": [
    "uncommon(' ','Hello superman justice league is splitting','Hello batman you cant let justice league collapse')"
   ]
  },
  {
   "cell_type": "markdown",
   "id": "dcc58e4a",
   "metadata": {},
   "source": [
    "#### 6.\tWrite a Python to find all duplicate characters in string?"
   ]
  },
  {
   "cell_type": "code",
   "execution_count": 91,
   "id": "836a0c72",
   "metadata": {},
   "outputs": [],
   "source": [
    "def duplicates(string):\n",
    "    '''return all the characters which occured in more then one'''\n",
    "    try:\n",
    "        all_chars = list(set(string))\n",
    "        duplicates = []\n",
    "        logging.info('entring duplicates() function')\n",
    "        if type(string)==str:\n",
    "            for i in all_chars:\n",
    "                if string.count(i)>1:\n",
    "                    duplicates.append((i,string.count(i)))\n",
    "        else:\n",
    "            raise Exception('Please give input in string method')\n",
    "        return duplicates\n",
    "    except Exception as e:\n",
    "        logging.error('Error code: ',e)"
   ]
  },
  {
   "cell_type": "code",
   "execution_count": 92,
   "id": "2f63951d",
   "metadata": {},
   "outputs": [
    {
     "data": {
      "text/plain": [
       "[('t', 2),\n",
       " ('e', 5),\n",
       " ('d', 3),\n",
       " ('f', 2),\n",
       " ('v', 2),\n",
       " ('k', 2),\n",
       " (' ', 6),\n",
       " ('c', 3),\n",
       " ('i', 2)]"
      ]
     },
     "execution_count": 92,
     "metadata": {},
     "output_type": "execute_result"
    }
   ],
   "source": [
    "duplicates('hed kic kelis dfec dft vewc vetb')"
   ]
  },
  {
   "cell_type": "markdown",
   "id": "dda1e9d3",
   "metadata": {},
   "source": [
    "#### 7.\tWrite a Python Program to check if a string contains any special character?"
   ]
  },
  {
   "cell_type": "code",
   "execution_count": 101,
   "id": "cdff8ac4",
   "metadata": {},
   "outputs": [],
   "source": [
    "def check_special(string):\n",
    "    '''return True if special characters in the string else return False'''\n",
    "    try:\n",
    "        logging.info('entering check_special() function')\n",
    "        import re\n",
    "        special_chars = re.compile('[^0-9a-zA-Z\\s]+')\n",
    "        result = False\n",
    "        if type(string)==str:\n",
    "            if special_chars.search(string):\n",
    "                result = True\n",
    "        else: \n",
    "            raise Exception('Input should be a string')\n",
    "        return result\n",
    "    except Exception as e:\n",
    "        loggin.error('Error code: ',e)"
   ]
  },
  {
   "cell_type": "code",
   "execution_count": 105,
   "id": "9ccee520",
   "metadata": {},
   "outputs": [
    {
     "data": {
      "text/plain": [
       "False"
      ]
     },
     "execution_count": 105,
     "metadata": {},
     "output_type": "execute_result"
    }
   ],
   "source": [
    "check_special('jshewdjk fdd hflssdjf')"
   ]
  },
  {
   "cell_type": "code",
   "execution_count": null,
   "id": "639b4790",
   "metadata": {},
   "outputs": [],
   "source": []
  }
 ],
 "metadata": {
  "kernelspec": {
   "display_name": "Python 3",
   "language": "python",
   "name": "python3"
  },
  "language_info": {
   "codemirror_mode": {
    "name": "ipython",
    "version": 3
   },
   "file_extension": ".py",
   "mimetype": "text/x-python",
   "name": "python",
   "nbconvert_exporter": "python",
   "pygments_lexer": "ipython3",
   "version": "3.8.8"
  }
 },
 "nbformat": 4,
 "nbformat_minor": 5
}
