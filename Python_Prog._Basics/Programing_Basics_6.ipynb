{
 "cells": [
  {
   "cell_type": "markdown",
   "id": "6a92c655",
   "metadata": {},
   "source": [
    "#### 1. Write a Python Program to Display Fibonacci Sequence Using Recursion?"
   ]
  },
  {
   "cell_type": "code",
   "execution_count": 9,
   "id": "b3b4ad82",
   "metadata": {},
   "outputs": [],
   "source": [
    "def fibonacci(number):\n",
    "    '''this function will give the fibonacci sequence using recursion'''\n",
    "    if number<=1:\n",
    "        return number\n",
    "    else:\n",
    "        return (fibonacci(number-1)+fibonacci(number-2))"
   ]
  },
  {
   "cell_type": "code",
   "execution_count": 17,
   "id": "63598be4",
   "metadata": {},
   "outputs": [
    {
     "name": "stdout",
     "output_type": "stream",
     "text": [
      "Please enter a number: 5\n",
      "0 0\n",
      "1 1\n",
      "2 1\n",
      "3 2\n",
      "4 3\n"
     ]
    }
   ],
   "source": [
    "number = int(input('Please enter a number: '))\n",
    "if number<0:\n",
    "    print('Please enter a positive integer number')\n",
    "else:\n",
    "    for i in range(number):\n",
    "        print(i,fibonacci(i))"
   ]
  },
  {
   "cell_type": "markdown",
   "id": "8f1f659d",
   "metadata": {},
   "source": [
    "#### 2. Write a Python Program to Find Factorial of Number Using Recursion?"
   ]
  },
  {
   "cell_type": "code",
   "execution_count": 18,
   "id": "120d4ced",
   "metadata": {},
   "outputs": [],
   "source": [
    "def factorial(number):\n",
    "    '''this function will return factorial of give number'''\n",
    "    if number<0:\n",
    "        print('Please give positive integer')\n",
    "    elif number==0 or number==1:\n",
    "        return number\n",
    "    else:\n",
    "        return (factorial(number-1)*number)"
   ]
  },
  {
   "cell_type": "code",
   "execution_count": 22,
   "id": "cecf7d51",
   "metadata": {},
   "outputs": [
    {
     "data": {
      "text/plain": [
       "24"
      ]
     },
     "execution_count": 22,
     "metadata": {},
     "output_type": "execute_result"
    }
   ],
   "source": [
    "factorial(4)"
   ]
  },
  {
   "cell_type": "markdown",
   "id": "ff47117c",
   "metadata": {},
   "source": [
    "#### 3. Write a Python Program to calculate your Body Mass Index?"
   ]
  },
  {
   "cell_type": "code",
   "execution_count": 29,
   "id": "5d2b5d35",
   "metadata": {},
   "outputs": [],
   "source": [
    "def BMI(mass,height):\n",
    "    '''this function will give BMI of a person with mass in Kg and height in CM are inputs'''\n",
    "    bmi = round(mass/(height*0.01)**2,2)\n",
    "    if bmi<18.5:\n",
    "        print(f'Your BMI is {bmi}Kg/m2 and you are under weight')\n",
    "    elif 18.5<=bmi and bmi<25.0:\n",
    "        print(f'Your BMI is {bmi}Kg/m2 and you are normal and healthy')\n",
    "    else:\n",
    "        print(f'Your BMI is {bmi}Kg/m2 and you are overweight weight')\n",
    "    return  bmi"
   ]
  },
  {
   "cell_type": "code",
   "execution_count": 30,
   "id": "6405dc86",
   "metadata": {},
   "outputs": [
    {
     "name": "stdout",
     "output_type": "stream",
     "text": [
      "Your BMI is 22.58Kg/m2 and you are normal and healthy\n"
     ]
    },
    {
     "data": {
      "text/plain": [
       "22.58"
      ]
     },
     "execution_count": 30,
     "metadata": {},
     "output_type": "execute_result"
    }
   ],
   "source": [
    "BMI(64.5,169)"
   ]
  },
  {
   "cell_type": "markdown",
   "id": "cf8bf403",
   "metadata": {},
   "source": [
    "#### 4. Write a Python Program to calculate the natural logarithm of any number?"
   ]
  },
  {
   "cell_type": "code",
   "execution_count": 38,
   "id": "826c1f9c",
   "metadata": {},
   "outputs": [],
   "source": [
    "def log(number):\n",
    "    '''this function will return natural logritham of given number'''\n",
    "    import math\n",
    "    return math.log(number)"
   ]
  },
  {
   "cell_type": "code",
   "execution_count": 42,
   "id": "0ec8f10e",
   "metadata": {},
   "outputs": [
    {
     "data": {
      "text/plain": [
       "0.6931471805599453"
      ]
     },
     "execution_count": 42,
     "metadata": {},
     "output_type": "execute_result"
    }
   ],
   "source": [
    "log(2)"
   ]
  },
  {
   "cell_type": "markdown",
   "id": "c9fb3961",
   "metadata": {},
   "source": [
    "#### 5.Write a Python Program for cube sum of first n natural numbers?"
   ]
  },
  {
   "cell_type": "code",
   "execution_count": 53,
   "id": "c197debd",
   "metadata": {},
   "outputs": [],
   "source": [
    "def CubeSum(number):\n",
    "    if number<=0:\n",
    "        print('please enter positive number')\n",
    "    else:\n",
    "        return(number*(number+1)/2)**2"
   ]
  },
  {
   "cell_type": "code",
   "execution_count": 55,
   "id": "a100c0c9",
   "metadata": {},
   "outputs": [
    {
     "data": {
      "text/plain": [
       "100.0"
      ]
     },
     "execution_count": 55,
     "metadata": {},
     "output_type": "execute_result"
    }
   ],
   "source": [
    "CubeSum(4)"
   ]
  }
 ],
 "metadata": {
  "kernelspec": {
   "display_name": "Python 3",
   "language": "python",
   "name": "python3"
  },
  "language_info": {
   "codemirror_mode": {
    "name": "ipython",
    "version": 3
   },
   "file_extension": ".py",
   "mimetype": "text/x-python",
   "name": "python",
   "nbconvert_exporter": "python",
   "pygments_lexer": "ipython3",
   "version": "3.8.8"
  }
 },
 "nbformat": 4,
 "nbformat_minor": 5
}
