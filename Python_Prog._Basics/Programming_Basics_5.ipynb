{
 "cells": [
  {
   "cell_type": "markdown",
   "id": "04e166c2",
   "metadata": {},
   "source": [
    "#### 1. Write a Python Program to Find LCM?"
   ]
  },
  {
   "cell_type": "code",
   "execution_count": 1,
   "id": "5ba56639",
   "metadata": {},
   "outputs": [],
   "source": [
    "def LCM(a,b):\n",
    "    '''this function takes two integers and return LCM'''\n",
    "    start = max(a,b)\n",
    "    while True:\n",
    "        if start%a ==0 and start%b==0:\n",
    "            result = start\n",
    "            break\n",
    "        start+=1\n",
    "    return result"
   ]
  },
  {
   "cell_type": "code",
   "execution_count": 2,
   "id": "99c4bffe",
   "metadata": {},
   "outputs": [
    {
     "data": {
      "text/plain": [
       "1134"
      ]
     },
     "execution_count": 2,
     "metadata": {},
     "output_type": "execute_result"
    }
   ],
   "source": [
    "LCM(162,126)"
   ]
  },
  {
   "cell_type": "markdown",
   "id": "dc41e5dd",
   "metadata": {},
   "source": [
    "#### 2. Write a Python Program to Find HCF? "
   ]
  },
  {
   "cell_type": "code",
   "execution_count": 3,
   "id": "717c6e2f",
   "metadata": {},
   "outputs": [],
   "source": [
    "def HCF(a,b):\n",
    "    '''it takes two integer inputs and return HCF of these two numbers'''\n",
    "    start = min(a,b)\n",
    "    while start>0:\n",
    "        if a%start ==0 and b%start==0:\n",
    "            result = start\n",
    "            break\n",
    "        start-=1\n",
    "    return result"
   ]
  },
  {
   "cell_type": "code",
   "execution_count": 4,
   "id": "b9ef59e6",
   "metadata": {},
   "outputs": [
    {
     "data": {
      "text/plain": [
       "18"
      ]
     },
     "execution_count": 4,
     "metadata": {},
     "output_type": "execute_result"
    }
   ],
   "source": [
    "HCF(126,162)"
   ]
  },
  {
   "cell_type": "markdown",
   "id": "0cea1bcd",
   "metadata": {},
   "source": [
    "####  3.Write a Python Program to Convert Decimal to Binary, Octal and Hexadecimal?"
   ]
  },
  {
   "cell_type": "code",
   "execution_count": 8,
   "id": "03d4264e",
   "metadata": {},
   "outputs": [
    {
     "name": "stdout",
     "output_type": "stream",
     "text": [
      "Please enter a decimal number: 10\n",
      "binary representation of decimal 10 is 0b1010\n",
      "octal representation of decimal 10 is 0o12\n",
      "Hexadecimal representation of decimal 10 is 0xa\n"
     ]
    }
   ],
   "source": [
    "deci = int(input('Please enter a decimal number: '))\n",
    "binary = bin(deci)\n",
    "octal = oct(deci)\n",
    "Hexadecimal = hex(deci)\n",
    "print(f'binary representation of decimal {deci} is {binary}')\n",
    "print(f'octal representation of decimal {deci} is {octal}')\n",
    "print(f'Hexadecimal representation of decimal {deci} is {Hexadecimal}')"
   ]
  },
  {
   "cell_type": "markdown",
   "id": "2e09ce01",
   "metadata": {},
   "source": [
    "#### 4. Write a Python Program To Find ASCII value of a character? "
   ]
  },
  {
   "cell_type": "code",
   "execution_count": 12,
   "id": "6bc4d96d",
   "metadata": {},
   "outputs": [
    {
     "name": "stdout",
     "output_type": "stream",
     "text": [
      "Please enter any character to find ASCII value: g\n"
     ]
    },
    {
     "data": {
      "text/plain": [
       "103"
      ]
     },
     "execution_count": 12,
     "metadata": {},
     "output_type": "execute_result"
    }
   ],
   "source": [
    "ip = input('Please enter any character to find ASCII value: ')\n",
    "output = ord(ip)\n",
    "output"
   ]
  },
  {
   "cell_type": "markdown",
   "id": "ff9f9b29",
   "metadata": {},
   "source": [
    "#### 5. Write a Python Program to Make a Simple Calculator with 4 basic mathematical operations? "
   ]
  },
  {
   "cell_type": "code",
   "execution_count": 15,
   "id": "decc9c6c",
   "metadata": {},
   "outputs": [],
   "source": [
    "def simple_calculator(digit1,digit2):\n",
    "    'this function takes two arguments and then do desired operation +,-,* and /'\n",
    "    \n",
    "    operator = input('Please type + to add, - to substract, * to multiply and / to divide')\n",
    "    try:\n",
    "        if operator == '+':\n",
    "            return digit1+digit2\n",
    "        elif operator == '-':\n",
    "            return digit1 - digit2\n",
    "        elif operator == '*':\n",
    "            return digit1 * digit2\n",
    "        elif operator == '/':\n",
    "            return digit1/digit2\n",
    "        else:\n",
    "            print('Please type valid operator')\n",
    "    except:\n",
    "        print('Please give numerical values to function')"
   ]
  },
  {
   "cell_type": "code",
   "execution_count": 21,
   "id": "0beea38f",
   "metadata": {},
   "outputs": [
    {
     "name": "stdout",
     "output_type": "stream",
     "text": [
      "Please type + to add, - to substract, * to multiply and / to divide+\n",
      "Please give numerical values to function\n"
     ]
    }
   ],
   "source": [
    "simple_calculator(1223.34,'d')"
   ]
  }
 ],
 "metadata": {
  "kernelspec": {
   "display_name": "Python 3",
   "language": "python",
   "name": "python3"
  },
  "language_info": {
   "codemirror_mode": {
    "name": "ipython",
    "version": 3
   },
   "file_extension": ".py",
   "mimetype": "text/x-python",
   "name": "python",
   "nbconvert_exporter": "python",
   "pygments_lexer": "ipython3",
   "version": "3.8.8"
  }
 },
 "nbformat": 4,
 "nbformat_minor": 5
}
