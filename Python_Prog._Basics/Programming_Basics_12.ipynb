{
 "cells": [
  {
   "cell_type": "code",
   "execution_count": 3,
   "id": "1139fb91",
   "metadata": {},
   "outputs": [],
   "source": [
    "import logging"
   ]
  },
  {
   "cell_type": "code",
   "execution_count": 4,
   "id": "af81dd42",
   "metadata": {},
   "outputs": [],
   "source": [
    "logging.basicConfig(filename='Prog12.log',level=logging.DEBUG,format='%(asctime)s %(levelname)s %(message)s')"
   ]
  },
  {
   "cell_type": "markdown",
   "id": "6b6d46fa",
   "metadata": {},
   "source": [
    "#### 1.\tWrite a Python program to Extract Unique values dictionary values?"
   ]
  },
  {
   "cell_type": "code",
   "execution_count": 5,
   "id": "4c94eba4",
   "metadata": {},
   "outputs": [],
   "source": [
    "def unique_val(dic_inp):\n",
    "    'take a dictionary input and return only unique values in dictionary'\n",
    "    try:\n",
    "        logging.info('entering unique_val function')\n",
    "        if type(dic_inp)==dict:\n",
    "            values = list(dic_inp.values())\n",
    "            result = []\n",
    "            for i in values:\n",
    "                if values.count(i)==1:\n",
    "                    result.append(i)\n",
    "            return result\n",
    "        else:\n",
    "            raise ValueError('Input should be a dictionary')\n",
    "    except Exception as e:\n",
    "        logging.error(e)"
   ]
  },
  {
   "cell_type": "code",
   "execution_count": 6,
   "id": "b9b016c6",
   "metadata": {},
   "outputs": [
    {
     "data": {
      "text/plain": [
       "['ja', 'ok', 'pi']"
      ]
     },
     "execution_count": 6,
     "metadata": {},
     "output_type": "execute_result"
    }
   ],
   "source": [
    "unique_val({1:'he',3:'ja',2:'ok',0:'he',9:'pi'})"
   ]
  },
  {
   "cell_type": "markdown",
   "id": "41a8a224",
   "metadata": {},
   "source": [
    "#### 2.\tWrite a Python program to find the sum of all items in a dictionary?"
   ]
  },
  {
   "cell_type": "code",
   "execution_count": 7,
   "id": "588213cd",
   "metadata": {},
   "outputs": [],
   "source": [
    "def sum_of_dict(dic_inp):\n",
    "    'take a dictionary input and return sum of all items'\n",
    "    try:\n",
    "        logging.info('entering unique_val function')\n",
    "        if type(dic_inp)==dict:\n",
    "            items = list(dic_inp.values()) + list(dic_inp.keys())\n",
    "            result = 0\n",
    "            for i in items:\n",
    "                if type(i) == int or type(i) == float:\n",
    "                    result += i\n",
    "            return result\n",
    "        else:\n",
    "            raise ValueError('Input should be a dictionary')\n",
    "    except Exception as e:\n",
    "        logging.error(e)"
   ]
  },
  {
   "cell_type": "code",
   "execution_count": 8,
   "id": "a1b51d3f",
   "metadata": {},
   "outputs": [
    {
     "data": {
      "text/plain": [
       "28"
      ]
     },
     "execution_count": 8,
     "metadata": {},
     "output_type": "execute_result"
    }
   ],
   "source": [
    "sum_of_dict({1:'he',3:'ja',2:'ok',0:'he',9:'pi','a':3,'t':10})"
   ]
  },
  {
   "cell_type": "markdown",
   "id": "3d2373da",
   "metadata": {},
   "source": [
    "#### 3.\tWrite a Python program to Merging two Dictionaries?"
   ]
  },
  {
   "cell_type": "code",
   "execution_count": 10,
   "id": "ae21a023",
   "metadata": {},
   "outputs": [],
   "source": [
    "def merge_dict(dic_inp1,dic_inp2):\n",
    "    'take two dictionaries and return merged of two'\n",
    "    try:\n",
    "        logging.info('entering merge_dict function')\n",
    "        if type(dic_inp1)==dict and type(dic_inp2)==dict:\n",
    "            for i in dic_inp1.keys():\n",
    "                dic_inp2[i] = dic_inp1[i]\n",
    "            return dic_inp2\n",
    "        else:\n",
    "            raise ValueError('Input should be a dictionary')\n",
    "    except Exception as e:\n",
    "        logging.error(e)"
   ]
  },
  {
   "cell_type": "code",
   "execution_count": 12,
   "id": "759d940a",
   "metadata": {},
   "outputs": [
    {
     "data": {
      "text/plain": [
       "{'azr': 465,\n",
       " 'ykb': 897,\n",
       " 1: 'he',\n",
       " 3: 'ja',\n",
       " 2: 'ok',\n",
       " 0: 'he',\n",
       " 9: 'pi',\n",
       " 'a': 3,\n",
       " 't': 10}"
      ]
     },
     "execution_count": 12,
     "metadata": {},
     "output_type": "execute_result"
    }
   ],
   "source": [
    "merge_dict({1:'he',3:'ja',2:'ok',0:'he',9:'pi','a':3,'t':10},{'azr':465,'ykb':897})"
   ]
  },
  {
   "cell_type": "markdown",
   "id": "aaa72dac",
   "metadata": {},
   "source": [
    "#### 4.\tWrite a Python program to convert key-values list to flat dictionary?"
   ]
  },
  {
   "cell_type": "code",
   "execution_count": 13,
   "id": "817ebe11",
   "metadata": {},
   "outputs": [],
   "source": [
    "def key_value(key_list,value_list):\n",
    "    'take two list contain key and values then return dictionary'\n",
    "    try:\n",
    "        logging.info('entering key_value function')\n",
    "        if type(key_list) == list and type(value_list) == list:\n",
    "            result = {}\n",
    "            if len(key_list) == len(value_list):\n",
    "                for i in range(len(key_list)):\n",
    "                    result[key_list[i]] = value_list[i]\n",
    "                return result\n",
    "            else:\n",
    "                raise ValueError('Both lists should be of same length')\n",
    "        else:\n",
    "            raise ValueError('Input should be a dictionary')\n",
    "    except Exception as e:\n",
    "        logging.error(e)"
   ]
  },
  {
   "cell_type": "code",
   "execution_count": 14,
   "id": "38675451",
   "metadata": {},
   "outputs": [
    {
     "data": {
      "text/plain": [
       "{1: 'se', 3: 'he', 'dh': 9}"
      ]
     },
     "execution_count": 14,
     "metadata": {},
     "output_type": "execute_result"
    }
   ],
   "source": [
    "key_value([1,3,'dh'],['se','he',9])"
   ]
  },
  {
   "cell_type": "markdown",
   "id": "60eefda9",
   "metadata": {},
   "source": [
    "#### 5.\tWrite a Python program to insertion at the beginning in OrderedDict?"
   ]
  },
  {
   "cell_type": "code",
   "execution_count": 15,
   "id": "3b0f7372",
   "metadata": {},
   "outputs": [],
   "source": [
    "def OrderedDict(ky,val,dictionary):\n",
    "    'take new key, new value and a dictionary then return ordered dictionary with new key values inserted at the beginning'\n",
    "    try:\n",
    "        logging.info('entering OrderedDict function')\n",
    "        if type(dictionary) == dict:\n",
    "            kys = sorted(dictionary)\n",
    "            result = {}\n",
    "            result [ky] = val\n",
    "            for i in kys:\n",
    "                result[i] = dictionary[i]\n",
    "            return result\n",
    "        else:\n",
    "            raise ValueError('Input should be a dictionary')\n",
    "    except Exception as e:\n",
    "        logging.error(e)"
   ]
  },
  {
   "cell_type": "code",
   "execution_count": 17,
   "id": "1eb64130",
   "metadata": {},
   "outputs": [
    {
     "data": {
      "text/plain": [
       "{7: 'Batman', 0: 'joker', 2: 'flash', 6: 'pharao', 9: 'posion envy'}"
      ]
     },
     "execution_count": 17,
     "metadata": {},
     "output_type": "execute_result"
    }
   ],
   "source": [
    "OrderedDict(7,'Batman',{9:'posion envy',2:'flash',0:'joker',6:'pharao'})"
   ]
  },
  {
   "cell_type": "markdown",
   "id": "239042a6",
   "metadata": {},
   "source": [
    "#### 6.\tWrite a Python program to check order of character in string using OrderedDict()?"
   ]
  },
  {
   "cell_type": "code",
   "execution_count": null,
   "id": "fdfff3ba",
   "metadata": {},
   "outputs": [],
   "source": [
    "# Question note clear"
   ]
  },
  {
   "cell_type": "code",
   "execution_count": null,
   "id": "03923faf",
   "metadata": {},
   "outputs": [],
   "source": []
  },
  {
   "cell_type": "markdown",
   "id": "b547c1bc",
   "metadata": {},
   "source": [
    "#### 7.\tWrite a Python program to sort Python Dictionaries by Key or Value?"
   ]
  },
  {
   "cell_type": "code",
   "execution_count": 22,
   "id": "0ee306fe",
   "metadata": {},
   "outputs": [],
   "source": [
    "def sort_dict(dictionary,key=True,value=False):\n",
    "    'by default sort dictionary on keys set key=False and Value = true to sort on values'\n",
    "    try:\n",
    "        logging.info('entering sort_dict function')\n",
    "        if type(dictionary) == dict:\n",
    "            if key == True and value == False:\n",
    "                return {k: v for k, v in sorted(dictionary.items(), key=lambda item: item[1])}\n",
    "            elif key == False and value == True:\n",
    "                return {k: v for k, v in sorted(dictionary.items(), key=lambda item: item[0])}\n",
    "            else:\n",
    "                raise TypeError('Either one of key and value needs to True and other to False')\n",
    "        else:\n",
    "            raise ValueError('Input should be a dictionary')\n",
    "    except Exception as e:\n",
    "        logging.error(e)"
   ]
  },
  {
   "cell_type": "code",
   "execution_count": 23,
   "id": "066e3c87",
   "metadata": {},
   "outputs": [
    {
     "data": {
      "text/plain": [
       "{10: 0, 12: 1, 11: 2, 14: 3, 13: 4}"
      ]
     },
     "execution_count": 23,
     "metadata": {},
     "output_type": "execute_result"
    }
   ],
   "source": [
    "sort_dict({11: 2, 13: 4, 14: 3, 12: 1, 10: 0})"
   ]
  },
  {
   "cell_type": "code",
   "execution_count": 24,
   "id": "99e118ee",
   "metadata": {},
   "outputs": [
    {
     "data": {
      "text/plain": [
       "{10: 0, 11: 2, 12: 1, 13: 4, 14: 3}"
      ]
     },
     "execution_count": 24,
     "metadata": {},
     "output_type": "execute_result"
    }
   ],
   "source": [
    "sort_dict({11: 2, 13: 4, 14: 3, 12: 1, 10: 0},key=False,value=True)"
   ]
  },
  {
   "cell_type": "code",
   "execution_count": null,
   "id": "07f2a1a3",
   "metadata": {},
   "outputs": [],
   "source": []
  }
 ],
 "metadata": {
  "kernelspec": {
   "display_name": "Python 3",
   "language": "python",
   "name": "python3"
  },
  "language_info": {
   "codemirror_mode": {
    "name": "ipython",
    "version": 3
   },
   "file_extension": ".py",
   "mimetype": "text/x-python",
   "name": "python",
   "nbconvert_exporter": "python",
   "pygments_lexer": "ipython3",
   "version": "3.8.8"
  }
 },
 "nbformat": 4,
 "nbformat_minor": 5
}
