{
 "cells": [
  {
   "cell_type": "markdown",
   "id": "829b4d43",
   "metadata": {},
   "source": [
    "#### 1. Write a Python program to find sum of elements in list?"
   ]
  },
  {
   "cell_type": "code",
   "execution_count": 6,
   "id": "1ccfdf9a",
   "metadata": {},
   "outputs": [],
   "source": [
    "def list_item_sum(lst):\n",
    "    'this function will give sum of the list element'\n",
    "    try:\n",
    "        total = 0\n",
    "        for i in lst:\n",
    "            if type(i)==int or type(i)==float:\n",
    "                total +=i\n",
    "        return total\n",
    "    except Exception as e:\n",
    "        print('Please give right input',e)"
   ]
  },
  {
   "cell_type": "code",
   "execution_count": 7,
   "id": "58ecbc83",
   "metadata": {},
   "outputs": [
    {
     "data": {
      "text/plain": [
       "118.7"
      ]
     },
     "execution_count": 7,
     "metadata": {},
     "output_type": "execute_result"
    }
   ],
   "source": [
    "list_item_sum([1,4,2,4,9.7,'sjdh',98,[1,2,3]])"
   ]
  },
  {
   "cell_type": "markdown",
   "id": "954a48e4",
   "metadata": {},
   "source": [
    "#### 2. Write a Python program to Multiply all numbers in the list?"
   ]
  },
  {
   "cell_type": "code",
   "execution_count": 8,
   "id": "cb0bd5d2",
   "metadata": {},
   "outputs": [],
   "source": [
    "def list_item_multiply(lst):\n",
    "    'this function will give multiplication of the list elements'\n",
    "    try:\n",
    "        total = 1\n",
    "        for i in lst:\n",
    "            if type(i)==int or type(i)==float:\n",
    "                total *=i\n",
    "        return total\n",
    "    except Exception as e:\n",
    "        print('Please give right input',e)"
   ]
  },
  {
   "cell_type": "code",
   "execution_count": 9,
   "id": "84ad9cae",
   "metadata": {},
   "outputs": [
    {
     "data": {
      "text/plain": [
       "81.6"
      ]
     },
     "execution_count": 9,
     "metadata": {},
     "output_type": "execute_result"
    }
   ],
   "source": [
    "list_item_multiply([2,1,3,4,3.4,'hey',[2,4]])"
   ]
  },
  {
   "cell_type": "markdown",
   "id": "078b5665",
   "metadata": {},
   "source": [
    "#### 3. Write a Python program to find smallest number in a list?"
   ]
  },
  {
   "cell_type": "code",
   "execution_count": 13,
   "id": "026e46bb",
   "metadata": {},
   "outputs": [],
   "source": [
    "def smallest(lst):\n",
    "    'this will give minimum number in the list'\n",
    "    try:\n",
    "        for i in lst:\n",
    "            if type(i)== int or type(i)==float:\n",
    "                smaller = i\n",
    "                break\n",
    "        for i in lst:\n",
    "            if type(i)==int or type(i)==float:\n",
    "                if smaller>i:\n",
    "                    smaller = i\n",
    "        return smaller\n",
    "    except Exception as e:\n",
    "        print('Please give right input',e)"
   ]
  },
  {
   "cell_type": "code",
   "execution_count": 15,
   "id": "068d03ad",
   "metadata": {},
   "outputs": [
    {
     "data": {
      "text/plain": [
       "1"
      ]
     },
     "execution_count": 15,
     "metadata": {},
     "output_type": "execute_result"
    }
   ],
   "source": [
    "smallest([2,1,3,4,3.4,34,'hey',[2,4]])"
   ]
  },
  {
   "cell_type": "markdown",
   "id": "bf0c6acc",
   "metadata": {},
   "source": [
    "#### 4. Write a Python program to find largest number in a list?"
   ]
  },
  {
   "cell_type": "code",
   "execution_count": 16,
   "id": "eef4a764",
   "metadata": {},
   "outputs": [],
   "source": [
    "def largest(lst):\n",
    "    'this will give maximum number in the list'\n",
    "    try:\n",
    "        for i in lst:\n",
    "            if type(i)== int or type(i)==float:\n",
    "                larger = i\n",
    "                break\n",
    "        for i in lst:\n",
    "            if type(i)==int or type(i)==float:\n",
    "                if larger<i:\n",
    "                    larger = i\n",
    "        return larger\n",
    "    except Exception as e:\n",
    "        print('Please give right input',e)"
   ]
  },
  {
   "cell_type": "code",
   "execution_count": 18,
   "id": "35697e89",
   "metadata": {},
   "outputs": [
    {
     "data": {
      "text/plain": [
       "-1"
      ]
     },
     "execution_count": 18,
     "metadata": {},
     "output_type": "execute_result"
    }
   ],
   "source": [
    "largest([-2,-1,-3,-4,-3.4,-34,'hey',[2,4]])"
   ]
  },
  {
   "cell_type": "markdown",
   "id": "313d4b8e",
   "metadata": {},
   "source": [
    "#### 5. Write a Python program to find second largest number in a list?"
   ]
  },
  {
   "cell_type": "code",
   "execution_count": 72,
   "id": "c08a0c7e",
   "metadata": {},
   "outputs": [],
   "source": [
    "def largest2(lst):\n",
    "    '''this will give 2nd largest number from a list'''\n",
    "    try:\n",
    "        lst2 = lst.copy()\n",
    "        result = []\n",
    "        while len(result)<len(lst):\n",
    "            s = largest(lst2)\n",
    "            result.append(s)\n",
    "            lst2.remove(s)\n",
    "        return result[1]\n",
    "    except Exception as e:\n",
    "        print('Please check the input ',e)"
   ]
  },
  {
   "cell_type": "code",
   "execution_count": 73,
   "id": "04dde3cf",
   "metadata": {},
   "outputs": [
    {
     "data": {
      "text/plain": [
       "34"
      ]
     },
     "execution_count": 73,
     "metadata": {},
     "output_type": "execute_result"
    }
   ],
   "source": [
    "largest2([1,34,23,45,5,-12,-1])"
   ]
  },
  {
   "cell_type": "markdown",
   "id": "0e305f50",
   "metadata": {},
   "source": [
    "#### 6. Write a Python program to find N largest elements from a list?"
   ]
  },
  {
   "cell_type": "code",
   "execution_count": 74,
   "id": "81da50c8",
   "metadata": {},
   "outputs": [],
   "source": [
    "def largestN(lst,Nvalue):\n",
    "    '''this will give Nth largest number from a list'''\n",
    "    try:\n",
    "        lst2 = lst.copy()\n",
    "        result = []\n",
    "        while len(result)<len(lst):\n",
    "            s = largest(lst2)\n",
    "            result.append(s)\n",
    "            lst2.remove(s)\n",
    "        return result[Nvalue-1]\n",
    "    except Exception as e:\n",
    "        print('Please check the input ',e)"
   ]
  },
  {
   "cell_type": "code",
   "execution_count": 77,
   "id": "7a1fe5b0",
   "metadata": {},
   "outputs": [
    {
     "data": {
      "text/plain": [
       "23"
      ]
     },
     "execution_count": 77,
     "metadata": {},
     "output_type": "execute_result"
    }
   ],
   "source": [
    "largestN([1,34,23,45,5,-12,-1],3)"
   ]
  },
  {
   "cell_type": "markdown",
   "id": "7955d727",
   "metadata": {},
   "source": [
    "#### 7. Write a Python program to print even numbers in a list?"
   ]
  },
  {
   "cell_type": "code",
   "execution_count": 79,
   "id": "e8cb5d0e",
   "metadata": {},
   "outputs": [],
   "source": [
    "def even(lst):\n",
    "    '''function will take a list and return list of even numbers from the given list'''\n",
    "    try:\n",
    "        result = []\n",
    "        for i in lst:\n",
    "            if type(i)==int:\n",
    "                if i%2==0:\n",
    "                    result.append(i)\n",
    "        return result\n",
    "    except Exception as e:\n",
    "        print('Please check the input ',e)"
   ]
  },
  {
   "cell_type": "code",
   "execution_count": 81,
   "id": "8cff4b73",
   "metadata": {},
   "outputs": [
    {
     "data": {
      "text/plain": [
       "[34, 54, 76, 8]"
      ]
     },
     "execution_count": 81,
     "metadata": {},
     "output_type": "execute_result"
    }
   ],
   "source": [
    "even([1,3,23,34,54,65,76,8,67])"
   ]
  },
  {
   "cell_type": "markdown",
   "id": "e3988534",
   "metadata": {},
   "source": [
    "#### 8. Write a Python program to print odd numbers in a List?"
   ]
  },
  {
   "cell_type": "code",
   "execution_count": 82,
   "id": "e0637e8b",
   "metadata": {},
   "outputs": [],
   "source": [
    "def odd(lst):\n",
    "    '''function will take a list and return list of even numbers from the given list'''\n",
    "    try:\n",
    "        result = []\n",
    "        for i in lst:\n",
    "            if type(i)==int:\n",
    "                if i%2!=0:\n",
    "                    result.append(i)\n",
    "        return result\n",
    "    except Exception as e:\n",
    "        print('Please check the input ',e)"
   ]
  },
  {
   "cell_type": "code",
   "execution_count": 83,
   "id": "1ca90c68",
   "metadata": {},
   "outputs": [
    {
     "data": {
      "text/plain": [
       "[1, 3, 23, 65, 67]"
      ]
     },
     "execution_count": 83,
     "metadata": {},
     "output_type": "execute_result"
    }
   ],
   "source": [
    "odd([1,3,23,34,54,65,76,8,67])"
   ]
  },
  {
   "cell_type": "markdown",
   "id": "b360ea18",
   "metadata": {},
   "source": [
    "#### 9. Write a Python program to Remove empty List from List?"
   ]
  },
  {
   "cell_type": "code",
   "execution_count": 88,
   "id": "27cbb942",
   "metadata": {},
   "outputs": [],
   "source": [
    "def empty_list(lst):\n",
    "    '''this function will take a list and remove any empty list from this, if any'''\n",
    "    try:\n",
    "        for i in lst:\n",
    "            if type(i)==list:\n",
    "                if len(i)==0:\n",
    "                    lst.remove(i)\n",
    "        return lst\n",
    "    except Exception as e:\n",
    "        print('Please check the input ',e)"
   ]
  },
  {
   "cell_type": "code",
   "execution_count": 103,
   "id": "3675f8d8",
   "metadata": {},
   "outputs": [
    {
     "data": {
      "text/plain": [
       "[1, 2, 3, 43, 45, [2, 4], 34, 5, [3, 4], [5, 46]]"
      ]
     },
     "execution_count": 103,
     "metadata": {},
     "output_type": "execute_result"
    }
   ],
   "source": [
    "empty_list([1,2,3,43,45,[2,4],[],34,5,[3,4],[],[5,46],[]])"
   ]
  },
  {
   "cell_type": "markdown",
   "id": "62ad0121",
   "metadata": {},
   "source": [
    "#### 10. Write a Python program to Cloning or Copying a list?"
   ]
  },
  {
   "cell_type": "code",
   "execution_count": 96,
   "id": "8048e58a",
   "metadata": {},
   "outputs": [],
   "source": [
    "def clonning(lst):\n",
    "    '''this function will take a list and return a deep copy of this list'''\n",
    "    cloned = []\n",
    "    try:\n",
    "        for i in lst:\n",
    "            cloned.append(i)\n",
    "        return cloned\n",
    "    except Exception as e:\n",
    "        print('Please check the input ',e)"
   ]
  },
  {
   "cell_type": "code",
   "execution_count": 97,
   "id": "8c122f0d",
   "metadata": {},
   "outputs": [
    {
     "data": {
      "text/plain": [
       "[-2, -1, -3, -4, -3.4, -34, 'hey', [2, 4]]"
      ]
     },
     "execution_count": 97,
     "metadata": {},
     "output_type": "execute_result"
    }
   ],
   "source": [
    "clonning([-2,-1,-3,-4,-3.4,-34,'hey',[2,4]])"
   ]
  },
  {
   "cell_type": "markdown",
   "id": "52a656ff",
   "metadata": {},
   "source": [
    "#### 11. Write a Python program to Count occurrences of an element in a list?"
   ]
  },
  {
   "cell_type": "code",
   "execution_count": 98,
   "id": "a285f620",
   "metadata": {},
   "outputs": [],
   "source": [
    "def count(lst,element):\n",
    "    '''this function take an input list and element from the list \n",
    "    and return the number of times element persent in that list'''\n",
    "    try:\n",
    "        count= 0\n",
    "        for i in lst:\n",
    "            if i == element:\n",
    "                count+=1\n",
    "        return count\n",
    "    except Exception as e:\n",
    "        print('Please check the input ',e)"
   ]
  },
  {
   "cell_type": "code",
   "execution_count": 102,
   "id": "5f17c8ed",
   "metadata": {},
   "outputs": [
    {
     "data": {
      "text/plain": [
       "6"
      ]
     },
     "execution_count": 102,
     "metadata": {},
     "output_type": "execute_result"
    }
   ],
   "source": [
    "count([2,3,4,1,2,3,2,5,6,7,2,45,2,32,2],2)"
   ]
  },
  {
   "cell_type": "code",
   "execution_count": null,
   "id": "752ec391",
   "metadata": {},
   "outputs": [],
   "source": []
  }
 ],
 "metadata": {
  "kernelspec": {
   "display_name": "Python 3",
   "language": "python",
   "name": "python3"
  },
  "language_info": {
   "codemirror_mode": {
    "name": "ipython",
    "version": 3
   },
   "file_extension": ".py",
   "mimetype": "text/x-python",
   "name": "python",
   "nbconvert_exporter": "python",
   "pygments_lexer": "ipython3",
   "version": "3.8.8"
  }
 },
 "nbformat": 4,
 "nbformat_minor": 5
}
