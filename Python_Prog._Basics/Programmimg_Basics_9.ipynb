{
 "cells": [
  {
   "cell_type": "markdown",
   "id": "220b7880",
   "metadata": {},
   "source": [
    "#### 1. Write a Python program to check if the given number is a Disarium Number? "
   ]
  },
  {
   "cell_type": "code",
   "execution_count": 1,
   "id": "be0c578e",
   "metadata": {},
   "outputs": [],
   "source": [
    "def disarium(number):\n",
    "    '''this function will tell if the number is disarium or not'''\n",
    "    total = 0\n",
    "    num_str = str(number)\n",
    "    for i in range(1,len(num_str)+1):\n",
    "        total+=(int(num_str[i-1]))**i\n",
    "    if number == total:\n",
    "        return True\n",
    "    else:\n",
    "        return False"
   ]
  },
  {
   "cell_type": "code",
   "execution_count": 4,
   "id": "87b87206",
   "metadata": {},
   "outputs": [
    {
     "data": {
      "text/plain": [
       "True"
      ]
     },
     "execution_count": 4,
     "metadata": {},
     "output_type": "execute_result"
    }
   ],
   "source": [
    "disarium(135)"
   ]
  },
  {
   "cell_type": "markdown",
   "id": "44001722",
   "metadata": {},
   "source": [
    "#### 2. Write a Python program to print all disarium numbers between 1 to 100? "
   ]
  },
  {
   "cell_type": "code",
   "execution_count": 5,
   "id": "2c02739e",
   "metadata": {},
   "outputs": [
    {
     "data": {
      "text/plain": [
       "[1, 2, 3, 4, 5, 6, 7, 8, 9, 89]"
      ]
     },
     "execution_count": 5,
     "metadata": {},
     "output_type": "execute_result"
    }
   ],
   "source": [
    "result=[]\n",
    "for i in range(1,101):\n",
    "    if disarium(i)==True:\n",
    "        result.append(i)\n",
    "result"
   ]
  },
  {
   "cell_type": "markdown",
   "id": "1a180976",
   "metadata": {},
   "source": [
    "#### 3. Write a Python program to check if the given number is Happy Number? "
   ]
  },
  {
   "cell_type": "code",
   "execution_count": 1,
   "id": "bd9a4a49",
   "metadata": {},
   "outputs": [],
   "source": [
    "def Happy(number):\n",
    "    '''tell whether number is Happy or Sad'''\n",
    "    no_list = [number]\n",
    "    flag = True\n",
    "    while flag:\n",
    "        total = 0\n",
    "        for i in str(no_list[-1]):\n",
    "            total += (int(i))**2\n",
    "        no_list.append(total)\n",
    "        if no_list[-1]==1 or no_list.count(total)==2:\n",
    "            flag = False\n",
    "            \n",
    "    if no_list[-1]==1:\n",
    "        return True\n",
    "    else:\n",
    "        return False"
   ]
  },
  {
   "cell_type": "code",
   "execution_count": 2,
   "id": "579d1935",
   "metadata": {},
   "outputs": [
    {
     "data": {
      "text/plain": [
       "True"
      ]
     },
     "execution_count": 2,
     "metadata": {},
     "output_type": "execute_result"
    }
   ],
   "source": [
    "Happy(291)"
   ]
  },
  {
   "cell_type": "markdown",
   "id": "e15a63b9",
   "metadata": {},
   "source": [
    "#### 4. Write a Python program to print all happy numbers between 1 and 100? "
   ]
  },
  {
   "cell_type": "code",
   "execution_count": 3,
   "id": "018d0359",
   "metadata": {},
   "outputs": [
    {
     "data": {
      "text/plain": [
       "[1, 7, 10, 13, 19, 23, 28, 31, 32, 44, 49, 68, 70, 79, 82, 86, 91, 94, 97, 100]"
      ]
     },
     "execution_count": 3,
     "metadata": {},
     "output_type": "execute_result"
    }
   ],
   "source": [
    "happy_nos = []\n",
    "for i in range(1,101):\n",
    "    if Happy(i):\n",
    "        happy_nos.append(i)\n",
    "happy_nos"
   ]
  },
  {
   "cell_type": "markdown",
   "id": "c55e9d5a",
   "metadata": {},
   "source": [
    "#### 5. Write a Python program to determine whether the given number is a Harshad Number? "
   ]
  },
  {
   "cell_type": "code",
   "execution_count": 4,
   "id": "ae1575f4",
   "metadata": {},
   "outputs": [],
   "source": [
    "def Harshad(number):\n",
    "    '''This function well tell whether the given number is harshad and not'''\n",
    "    total = 0\n",
    "    for i in str(number):\n",
    "        total +=int(i)\n",
    "    if number%total ==0:\n",
    "        return True\n",
    "    else:\n",
    "        return False"
   ]
  },
  {
   "cell_type": "code",
   "execution_count": 13,
   "id": "ffb12630",
   "metadata": {},
   "outputs": [
    {
     "data": {
      "text/plain": [
       "False"
      ]
     },
     "execution_count": 13,
     "metadata": {},
     "output_type": "execute_result"
    }
   ],
   "source": [
    "Harshad(122)"
   ]
  },
  {
   "cell_type": "markdown",
   "id": "b19e9be8",
   "metadata": {},
   "source": [
    "#### 6. Write a Python program to print all pronic numbers between 1 and 100? "
   ]
  },
  {
   "cell_type": "code",
   "execution_count": 15,
   "id": "4da23b17",
   "metadata": {},
   "outputs": [
    {
     "data": {
      "text/plain": [
       "[1,\n",
       " 2,\n",
       " 3,\n",
       " 4,\n",
       " 5,\n",
       " 6,\n",
       " 7,\n",
       " 8,\n",
       " 9,\n",
       " 10,\n",
       " 12,\n",
       " 18,\n",
       " 20,\n",
       " 21,\n",
       " 24,\n",
       " 27,\n",
       " 30,\n",
       " 36,\n",
       " 40,\n",
       " 42,\n",
       " 45,\n",
       " 48,\n",
       " 50,\n",
       " 54,\n",
       " 60,\n",
       " 63,\n",
       " 70,\n",
       " 72,\n",
       " 80,\n",
       " 81,\n",
       " 84,\n",
       " 90,\n",
       " 100]"
      ]
     },
     "execution_count": 15,
     "metadata": {},
     "output_type": "execute_result"
    }
   ],
   "source": [
    "harshad_nos = []\n",
    "for i in range(1,101):\n",
    "    if Harshad(i):\n",
    "        harshad_nos.append(i)\n",
    "harshad_nos"
   ]
  }
 ],
 "metadata": {
  "kernelspec": {
   "display_name": "Python 3",
   "language": "python",
   "name": "python3"
  },
  "language_info": {
   "codemirror_mode": {
    "name": "ipython",
    "version": 3
   },
   "file_extension": ".py",
   "mimetype": "text/x-python",
   "name": "python",
   "nbconvert_exporter": "python",
   "pygments_lexer": "ipython3",
   "version": "3.8.8"
  }
 },
 "nbformat": 4,
 "nbformat_minor": 5
}
