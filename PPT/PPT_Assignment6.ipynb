{
 "cells": [
  {
   "cell_type": "markdown",
   "id": "e8731850",
   "metadata": {},
   "source": [
    "<aside>\n",
    "💡 **Question 1**\n",
    "\n",
    "A permutation perm of n + 1 integers of all the integers in the range [0, n] can be represented as a string s of length n where:\n",
    "\n",
    "- s[i] == 'I' if perm[i] < perm[i + 1], and\n",
    "- s[i] == 'D' if perm[i] > perm[i + 1].\n",
    "\n",
    "Given a string s, reconstruct the permutation perm and return it. If there are multiple valid permutations perm, return **any of them**.\n",
    "\n",
    "**Example 1:**\n",
    "\n",
    "**Input:** s = \"IDID\"\n",
    "\n",
    "**Output:**\n",
    "\n",
    "[0,4,1,3,2]\n",
    "\n",
    "</aside>"
   ]
  },
  {
   "cell_type": "code",
   "execution_count": 1,
   "id": "778ab5de",
   "metadata": {},
   "outputs": [],
   "source": [
    "def reconstruct_perm(s):\n",
    "    'return the permutation perm from given string'\n",
    "    n = len(s)\n",
    "    perm = []\n",
    "    low, high = 0, n\n",
    "    for c in s:\n",
    "        if c == 'I':\n",
    "            perm.append(low)\n",
    "            low += 1\n",
    "        elif c == 'D':\n",
    "            perm.append(high)\n",
    "            high -= 1\n",
    "    perm.append(low)  \n",
    "    return perm"
   ]
  },
  {
   "cell_type": "code",
   "execution_count": 4,
   "id": "91b9de7a",
   "metadata": {},
   "outputs": [
    {
     "data": {
      "text/plain": [
       "[0, 4, 1, 3, 2]"
      ]
     },
     "execution_count": 4,
     "metadata": {},
     "output_type": "execute_result"
    }
   ],
   "source": [
    "s = \"IDID\"\n",
    "reconstruct_perm(s)"
   ]
  },
  {
   "cell_type": "markdown",
   "id": "b5abdc6e",
   "metadata": {},
   "source": [
    "<aside>\n",
    "💡 **Question 2**\n",
    "\n",
    "You are given an m x n integer matrix matrix with the following two properties:\n",
    "\n",
    "- Each row is sorted in non-decreasing order.\n",
    "- The first integer of each row is greater than the last integer of the previous row.\n",
    "\n",
    "Given an integer target, return true *if* target *is in* matrix *or* false *otherwise*.\n",
    "\n",
    "You must write a solution in O(log(m * n)) time complexity.\n",
    "\n",
    "**Example 1:**\n",
    "\n",
    "![img](as6q2.png)\n",
    "    \n",
    "**Input:** matrix = [[1,3,5,7],[10,11,16,20],[23,30,34,60]], target = 3\n",
    "\n",
    "**Output:** true\n",
    "</aside>"
   ]
  },
  {
   "cell_type": "code",
   "execution_count": 5,
   "id": "e971c68c",
   "metadata": {},
   "outputs": [],
   "source": [
    "def search_in_sortedMatrix(matrix, target):\n",
    "    'return True if element is present in sorted matrix else return False'\n",
    "    m, n = len(matrix), len(matrix[0])\n",
    "    left, right = 0, m * n - 1\n",
    "    while left <= right:\n",
    "        mid = (left + right) // 2\n",
    "        row = mid // n\n",
    "        col = mid % n\n",
    "        if matrix[row][col] == target:\n",
    "            return True\n",
    "        elif matrix[row][col] < target:\n",
    "            left = mid + 1\n",
    "        else:\n",
    "            right = mid - 1\n",
    "\n",
    "    return False"
   ]
  },
  {
   "cell_type": "code",
   "execution_count": 6,
   "id": "8f55e24d",
   "metadata": {},
   "outputs": [
    {
     "data": {
      "text/plain": [
       "True"
      ]
     },
     "execution_count": 6,
     "metadata": {},
     "output_type": "execute_result"
    }
   ],
   "source": [
    "matrix = [[1, 3, 5, 7], [10, 11, 16, 20], [23, 30, 34, 60]]\n",
    "target = 3\n",
    "search_in_sortedMatrix(matrix, target)"
   ]
  },
  {
   "cell_type": "markdown",
   "id": "dfaf77ab",
   "metadata": {},
   "source": [
    "<aside>\n",
    "💡 **Question 3**\n",
    "\n",
    "Given an array of integers arr, return *true if and only if it is a valid mountain array*.\n",
    "\n",
    "Recall that arr is a mountain array if and only if:\n",
    "\n",
    "- arr.length >= 3\n",
    "- There exists some i with 0 < i < arr.length - 1 such that:\n",
    "    - arr[0] < arr[1] < ... < arr[i - 1] < arr[i]\n",
    "    - arr[i] > arr[i + 1] > ... > arr[arr.length - 1]\n",
    "  \n",
    "![img](as6q3.png)\n",
    "    \n",
    "**Example 1:**\n",
    "\n",
    "**Input:** arr = [2,1]\n",
    "\n",
    "**Output:**\n",
    "\n",
    "false\n",
    "</aside>"
   ]
  },
  {
   "cell_type": "code",
   "execution_count": 7,
   "id": "3e8f9680",
   "metadata": {},
   "outputs": [],
   "source": [
    "def MountainArray(arr):\n",
    "    'return true if array is mountain array'\n",
    "    if len(arr) < 3: # length of mountain array should be at least 3\n",
    "        return False\n",
    "    i = 0\n",
    "    while i < len(arr) - 1 and arr[i] < arr[i + 1]: # to find the peak of the mountain\n",
    "        i += 1\n",
    "\n",
    "    if i == 0 or i == len(arr) - 1: # peak can't at any end\n",
    "        return False\n",
    "\n",
    "    while i < len(arr) - 1 and arr[i] > arr[i + 1]:\n",
    "        i += 1\n",
    "\n",
    "    return i == len(arr) - 1\n"
   ]
  },
  {
   "cell_type": "code",
   "execution_count": 9,
   "id": "e73d056c",
   "metadata": {},
   "outputs": [
    {
     "data": {
      "text/plain": [
       "False"
      ]
     },
     "execution_count": 9,
     "metadata": {},
     "output_type": "execute_result"
    }
   ],
   "source": [
    "arr = [2, 1]\n",
    "MountainArray(arr)"
   ]
  },
  {
   "cell_type": "code",
   "execution_count": 15,
   "id": "51ad99c4",
   "metadata": {},
   "outputs": [
    {
     "data": {
      "text/plain": [
       "True"
      ]
     },
     "execution_count": 15,
     "metadata": {},
     "output_type": "execute_result"
    }
   ],
   "source": [
    "arr = [0, 2, 3, 4, 5, 2, 1, 0]\n",
    "MountainArray(arr)"
   ]
  },
  {
   "cell_type": "code",
   "execution_count": 16,
   "id": "8a845c13",
   "metadata": {},
   "outputs": [
    {
     "data": {
      "text/plain": [
       "False"
      ]
     },
     "execution_count": 16,
     "metadata": {},
     "output_type": "execute_result"
    }
   ],
   "source": [
    "arr = [0,2, 3, 3, 5, 2, 1, 0]\n",
    "MountainArray(arr)"
   ]
  },
  {
   "cell_type": "markdown",
   "id": "3512c833",
   "metadata": {},
   "source": [
    "<aside>\n",
    "💡 **Question 4**\n",
    "\n",
    "Given a binary array nums, return *the maximum length of a contiguous subarray with an equal number of* 0 *and* 1.\n",
    "\n",
    "**Example 1:**\n",
    "\n",
    "**Input:** nums = [0,1]\n",
    "\n",
    "**Output:** 2\n",
    "\n",
    "**Explanation:**\n",
    "\n",
    "[0, 1] is the longest contiguous subarray with an equal number of 0 and 1.\n",
    "\n",
    "</aside>"
   ]
  },
  {
   "cell_type": "code",
   "execution_count": 17,
   "id": "8f4f049c",
   "metadata": {},
   "outputs": [],
   "source": [
    "def findMaxLength(nums):\n",
    "    'find max occurance of contiguous 1s and 0s'\n",
    "    max_length = 0\n",
    "    count = 0\n",
    "    prefix_sums = {0: -1}  # Initialize prefix sum with count 0 at index -1\n",
    "    for i, num in enumerate(nums):\n",
    "        count += 1 if num == 1 else -1\n",
    "\n",
    "        if count == 0:\n",
    "            max_length = i + 1\n",
    "        elif count in prefix_sums:\n",
    "            length = i - prefix_sums[count]\n",
    "            max_length = max(max_length, length)\n",
    "        else:\n",
    "            prefix_sums[count] = i\n",
    "    return max_length"
   ]
  },
  {
   "cell_type": "code",
   "execution_count": 18,
   "id": "a97b2183",
   "metadata": {},
   "outputs": [
    {
     "data": {
      "text/plain": [
       "2"
      ]
     },
     "execution_count": 18,
     "metadata": {},
     "output_type": "execute_result"
    }
   ],
   "source": [
    "nums = [0, 1]\n",
    "findMaxLength(nums)"
   ]
  },
  {
   "cell_type": "code",
   "execution_count": 21,
   "id": "49eaaea1",
   "metadata": {},
   "outputs": [
    {
     "data": {
      "text/plain": [
       "6"
      ]
     },
     "execution_count": 21,
     "metadata": {},
     "output_type": "execute_result"
    }
   ],
   "source": [
    "nums = [0, 1,0,1,1,0,1,1,0]\n",
    "findMaxLength(nums)"
   ]
  },
  {
   "cell_type": "markdown",
   "id": "d913ac36",
   "metadata": {},
   "source": [
    "<aside>\n",
    "💡 **Question 5**\n",
    "\n",
    "The **product sum** of two equal-length arrays a and b is equal to the sum of a[i] * b[i] for all 0 <= i < a.length (**0-indexed**).\n",
    "\n",
    "- For example, if a = [1,2,3,4] and b = [5,2,3,1], the **product sum** would be 1x5 + 2x2 + 3x3 + 4x1 = 22.\n",
    "\n",
    "Given two arrays nums1 and nums2 of length n, return *the **minimum product sum** if you are allowed to **rearrange** the **order** of the elements in* nums1.\n",
    "\n",
    "**Example 1:**\n",
    "\n",
    "**Input:** nums1 = [5,3,4,2], nums2 = [4,2,2,5]\n",
    "\n",
    "**Output:** 40\n",
    "\n",
    "**Explanation:**\n",
    "\n",
    "We can rearrange nums1 to become [3,5,4,2]. The product sum of [3,5,4,2] and [4,2,2,5] is 3*4 + 5*2 + 4*2 + 2*5 = 40.\n",
    "\n",
    "</aside>"
   ]
  },
  {
   "cell_type": "code",
   "execution_count": 22,
   "id": "e6e396f4",
   "metadata": {},
   "outputs": [],
   "source": [
    "def min_product_sum(nums1, nums2):\n",
    "    'return minimum product sum of two equal length array after rearranging nums1'\n",
    "    nums1.sort()\n",
    "    nums2.sort(reverse=True)\n",
    "    min_product_sum = 0\n",
    "    for i in range(len(nums1)):\n",
    "        min_product_sum += nums1[i] * nums2[i]\n",
    "    return min_product_sum\n"
   ]
  },
  {
   "cell_type": "code",
   "execution_count": 23,
   "id": "09d7dfe4",
   "metadata": {},
   "outputs": [
    {
     "data": {
      "text/plain": [
       "40"
      ]
     },
     "execution_count": 23,
     "metadata": {},
     "output_type": "execute_result"
    }
   ],
   "source": [
    "nums1 = [5, 3, 4, 2]\n",
    "nums2 = [4, 2, 2, 5]\n",
    "min_product_sum(nums1, nums2)"
   ]
  },
  {
   "cell_type": "markdown",
   "id": "fe27b89d",
   "metadata": {},
   "source": [
    "<aside>\n",
    "💡 **Question 6**\n",
    "\n",
    "An integer array original is transformed into a **doubled** array changed by appending **twice the value** of every element in original, and then randomly **shuffling** the resulting array.\n",
    "\n",
    "Given an array changed, return original *if* changed *is a **doubled** array. If* changed *is not a **doubled** array, return an empty array. The elements in* original *may be returned in **any** order*.\n",
    "\n",
    "**Example 1:**\n",
    "\n",
    "**Input:** changed = [1,3,4,2,6,8]\n",
    "\n",
    "**Output:** [1,3,4]\n",
    "\n",
    "**Explanation:** One possible original array could be [1,3,4]:\n",
    "\n",
    "- Twice the value of 1 is 1 * 2 = 2.\n",
    "- Twice the value of 3 is 3 * 2 = 6.\n",
    "- Twice the value of 4 is 4 * 2 = 8.\n",
    "\n",
    "Other original arrays could be [4,3,1] or [3,1,4].\n",
    "\n",
    "</aside>"
   ]
  },
  {
   "cell_type": "code",
   "execution_count": 24,
   "id": "f5ece1fa",
   "metadata": {},
   "outputs": [],
   "source": [
    "def findOriginalArray(changed):\n",
    "    if len(changed) % 2 != 0:\n",
    "        return [] \n",
    "    original = []\n",
    "    frequency = {}\n",
    "    for num in changed:\n",
    "        if num in frequency and frequency[num] > 0:\n",
    "            original.append(num // 2)\n",
    "            frequency[num] -= 1\n",
    "        else:\n",
    "            frequency[num * 2] = frequency.get(num * 2, 0) + 1\n",
    "    if sum(frequency.values()) > 0:\n",
    "        return []  # If there are remaining unmatched values, it's not a valid doubled array\n",
    "\n",
    "    return original"
   ]
  },
  {
   "cell_type": "code",
   "execution_count": 25,
   "id": "5b648e1f",
   "metadata": {},
   "outputs": [
    {
     "data": {
      "text/plain": [
       "[1, 3, 4]"
      ]
     },
     "execution_count": 25,
     "metadata": {},
     "output_type": "execute_result"
    }
   ],
   "source": [
    "changed = [1, 3, 4, 2, 6, 8]\n",
    "findOriginalArray(changed)"
   ]
  },
  {
   "cell_type": "markdown",
   "id": "cf5e431d",
   "metadata": {},
   "source": [
    "<aside>\n",
    "💡 **Question 7**\n",
    "\n",
    "Given a positive integer n, generate an n x n matrix filled with elements from 1 to n2 in spiral order.\n",
    "\n",
    "**Example 1:**\n",
    "\n",
    "![img](as6q7.png)\n",
    "    \n",
    "**Input:** n = 3\n",
    "\n",
    "**Output:** [[1,2,3],[8,9,4],[7,6,5]]   \n",
    "</aside>"
   ]
  },
  {
   "cell_type": "code",
   "execution_count": 28,
   "id": "35bfcd54",
   "metadata": {},
   "outputs": [],
   "source": [
    "def generate_spiral_Matrix(n):\n",
    "    'Generate spiral matrix of order n*n'\n",
    "    result = [[0] * n for _ in range(n)]\n",
    "    left, right, top, bottom = 0, n - 1, 0, n - 1\n",
    "    num = 1\n",
    "    while num <= n * n: #update rows from top\n",
    "        for i in range(left, right + 1):\n",
    "            result[top][i] = num\n",
    "            num += 1\n",
    "        top += 1\n",
    "\n",
    "        for i in range(top, bottom + 1): # update columns from right\n",
    "            result[i][right] = num\n",
    "            num += 1\n",
    "        right -= 1\n",
    "\n",
    "        for i in range(right, left - 1, -1): # update from bottom\n",
    "            result[bottom][i] = num\n",
    "            num += 1\n",
    "        bottom -= 1\n",
    "\n",
    "        for i in range(bottom, top - 1, -1): # update columns from  left\n",
    "            result[i][left] = num\n",
    "            num += 1\n",
    "        left += 1\n",
    "    return result"
   ]
  },
  {
   "cell_type": "code",
   "execution_count": 29,
   "id": "d04a8ff4",
   "metadata": {},
   "outputs": [
    {
     "data": {
      "text/plain": [
       "[[1, 2, 3], [8, 9, 4], [7, 6, 5]]"
      ]
     },
     "execution_count": 29,
     "metadata": {},
     "output_type": "execute_result"
    }
   ],
   "source": [
    "n = 3\n",
    "generate_spiral_Matrix(n)"
   ]
  },
  {
   "cell_type": "markdown",
   "id": "3452be2f",
   "metadata": {},
   "source": [
    "<aside>\n",
    "💡 **Question 8**\n",
    "\n",
    "Given two [sparse matrices](https://en.wikipedia.org/wiki/Sparse_matrix) mat1 of size m x k and mat2 of size k x n, return the result of mat1 x mat2. You may assume that multiplication is always possible.\n",
    "\n",
    "**Example 1:**\n",
    "\n",
    "![img](as6q8.png)\n",
    "    \n",
    "**Input:** mat1 = [[1,0,0],[-1,0,3]], mat2 = [[7,0,0],[0,0,0],[0,0,1]]\n",
    "\n",
    "**Output:**\n",
    "\n",
    "[[7,0,0],[-7,0,3]]\n",
    "</aside>"
   ]
  },
  {
   "cell_type": "code",
   "execution_count": null,
   "id": "73b031ca",
   "metadata": {},
   "outputs": [],
   "source": [
    "def matrix_multiplication(mat1, mat2):\n",
    "    'return multiplication of mat1 and mat2'\n",
    "    m, k, n = len(mat1), len(mat1[0]), len(mat2[0])\n",
    "    result = [[0] * n for _ in range(m)]\n",
    "\n",
    "    transposed_mat2 = [[mat2[j][i] for j in range(k)] for i in range(n)]\n",
    "\n",
    "    for i in range(m):\n",
    "        for j in range(n):\n",
    "            sum_val = 0\n",
    "            for idx in range(k):\n",
    "                sum_val += mat1[i][idx] * transposed_mat2[j][idx]\n",
    "            result[i][j] = sum_val\n",
    "\n",
    "    return result\n"
   ]
  }
 ],
 "metadata": {
  "kernelspec": {
   "display_name": "Python 3",
   "language": "python",
   "name": "python3"
  },
  "language_info": {
   "codemirror_mode": {
    "name": "ipython",
    "version": 3
   },
   "file_extension": ".py",
   "mimetype": "text/x-python",
   "name": "python",
   "nbconvert_exporter": "python",
   "pygments_lexer": "ipython3",
   "version": "3.8.8"
  }
 },
 "nbformat": 4,
 "nbformat_minor": 5
}
