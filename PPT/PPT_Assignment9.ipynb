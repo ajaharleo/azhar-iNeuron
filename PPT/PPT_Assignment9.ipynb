{
 "cells": [
  {
   "cell_type": "markdown",
   "id": "1bf52f64",
   "metadata": {},
   "source": [
    "<aside>\n",
    "💡 **Question 1**\n",
    "\n",
    "Given an integer `n`, return *`true` if it is a power of two. Otherwise, return `false`*.\n",
    "\n",
    "An integer `n` is a power of two, if there exists an integer `x` such that `n == 2^x`.\n",
    "\n",
    "**Example 1:**\n",
    "Input: n = 1 \n",
    "\n",
    "Output: true\n",
    "\n",
    "**Example 2:**\n",
    "Input: n = 16 \n",
    "\n",
    "Output: true\n",
    "\n",
    "**Example 3:**\n",
    "Input: n = 3 \n",
    "\n",
    "Output: false\n",
    "\n",
    "</aside>"
   ]
  },
  {
   "cell_type": "code",
   "execution_count": 7,
   "id": "c0cebc2b",
   "metadata": {},
   "outputs": [],
   "source": [
    "def isPower2(n):\n",
    "    'return true if we have any value x for which n == 2**x'\n",
    "    if n < 0: # corner case\n",
    "        return False\n",
    "    while n > 1:\n",
    "        if n % 2 == 0:\n",
    "            n = n // 2\n",
    "        else:\n",
    "            return False\n",
    "    return True"
   ]
  },
  {
   "cell_type": "code",
   "execution_count": 8,
   "id": "c85ad9d0",
   "metadata": {},
   "outputs": [
    {
     "data": {
      "text/plain": [
       "True"
      ]
     },
     "execution_count": 8,
     "metadata": {},
     "output_type": "execute_result"
    }
   ],
   "source": [
    "n = 16\n",
    "isPower2(n)"
   ]
  },
  {
   "cell_type": "code",
   "execution_count": 9,
   "id": "6660967b",
   "metadata": {},
   "outputs": [
    {
     "data": {
      "text/plain": [
       "False"
      ]
     },
     "execution_count": 9,
     "metadata": {},
     "output_type": "execute_result"
    }
   ],
   "source": [
    "n = 3\n",
    "isPower2(n)"
   ]
  },
  {
   "cell_type": "markdown",
   "id": "8bf5acf2",
   "metadata": {},
   "source": [
    "<aside>\n",
    "💡 **Question 2**\n",
    "\n",
    "Given a number n, find the sum of the first natural numbers.\n",
    "\n",
    "**Example 1:**\n",
    "\n",
    "Input: n = 3 \n",
    "\n",
    "Output: 6\n",
    "\n",
    "**Example 2:**\n",
    "\n",
    "Input  : 5 \n",
    "\n",
    "Output : 15\n",
    "\n",
    "</aside>"
   ]
  },
  {
   "cell_type": "code",
   "execution_count": 10,
   "id": "50109e18",
   "metadata": {},
   "outputs": [],
   "source": [
    "def natural_num_sum(n):\n",
    "    'return the sum of first n natural numbers'\n",
    "    return n*(n+1)//2"
   ]
  },
  {
   "cell_type": "code",
   "execution_count": 11,
   "id": "8ccfda90",
   "metadata": {},
   "outputs": [
    {
     "data": {
      "text/plain": [
       "6"
      ]
     },
     "execution_count": 11,
     "metadata": {},
     "output_type": "execute_result"
    }
   ],
   "source": [
    "n = 3\n",
    "natural_num_sum(n)"
   ]
  },
  {
   "cell_type": "code",
   "execution_count": 12,
   "id": "0e43ff74",
   "metadata": {},
   "outputs": [
    {
     "data": {
      "text/plain": [
       "15"
      ]
     },
     "execution_count": 12,
     "metadata": {},
     "output_type": "execute_result"
    }
   ],
   "source": [
    "n = 5\n",
    "natural_num_sum(n)"
   ]
  },
  {
   "cell_type": "markdown",
   "id": "e5d68045",
   "metadata": {},
   "source": [
    "<aside>\n",
    "💡 **Question 3**\n",
    "\n",
    "****Given a positive integer, N. Find the factorial of N. \n",
    "\n",
    "**Example 1:**\n",
    "\n",
    "Input: N = 5 \n",
    "\n",
    "Output: 120\n",
    "\n",
    "**Example 2:**\n",
    "\n",
    "Input: N = 4\n",
    "\n",
    "Output: 24\n",
    "\n",
    "</aside>"
   ]
  },
  {
   "cell_type": "code",
   "execution_count": 13,
   "id": "e0ea3619",
   "metadata": {},
   "outputs": [],
   "source": [
    "def factorial(n):\n",
    "    'return the factorial of n'\n",
    "    result = 1\n",
    "    if n < 0:\n",
    "        return 0\n",
    "    if n == 0 or n == 1:\n",
    "        return 1\n",
    "    return n*factorial(n-1)"
   ]
  },
  {
   "cell_type": "code",
   "execution_count": 14,
   "id": "2323b10b",
   "metadata": {},
   "outputs": [
    {
     "data": {
      "text/plain": [
       "120"
      ]
     },
     "execution_count": 14,
     "metadata": {},
     "output_type": "execute_result"
    }
   ],
   "source": [
    "n = 5\n",
    "factorial(n)"
   ]
  },
  {
   "cell_type": "code",
   "execution_count": 15,
   "id": "fee400cd",
   "metadata": {},
   "outputs": [
    {
     "data": {
      "text/plain": [
       "24"
      ]
     },
     "execution_count": 15,
     "metadata": {},
     "output_type": "execute_result"
    }
   ],
   "source": [
    "n = 4\n",
    "factorial(4)"
   ]
  },
  {
   "cell_type": "markdown",
   "id": "465efc82",
   "metadata": {},
   "source": [
    "<aside>\n",
    "💡 **Question 4**\n",
    "\n",
    "Given a number N and a power P, the task is to find the exponent of this number raised to the given power, i.e. N^P.\n",
    "\n",
    "**Example 1 :** \n",
    "\n",
    "Input: N = 5, P = 2\n",
    "\n",
    "Output: 25\n",
    "\n",
    "**Example 2 :**\n",
    "Input: N = 2, P = 5\n",
    "\n",
    "Output: 32\n",
    "\n",
    "</aside>"
   ]
  },
  {
   "cell_type": "code",
   "execution_count": 16,
   "id": "10ebf31e",
   "metadata": {},
   "outputs": [],
   "source": [
    "def power(n,p):\n",
    "    'return the value of n**p'\n",
    "    if p == 0:\n",
    "        return 1\n",
    "    elif p < 0:\n",
    "        return(1/n,p)\n",
    "    else:\n",
    "        if p%2 == 0:\n",
    "            half = power(n,p//2)\n",
    "            return half * half\n",
    "        else:\n",
    "            half = power(n,(p-1)//2)\n",
    "            return n*half*half"
   ]
  },
  {
   "cell_type": "code",
   "execution_count": 17,
   "id": "56bc5335",
   "metadata": {},
   "outputs": [
    {
     "data": {
      "text/plain": [
       "25"
      ]
     },
     "execution_count": 17,
     "metadata": {},
     "output_type": "execute_result"
    }
   ],
   "source": [
    "n,p = 5,2\n",
    "power(n,p)"
   ]
  },
  {
   "cell_type": "code",
   "execution_count": 19,
   "id": "3c18d9e8",
   "metadata": {},
   "outputs": [
    {
     "data": {
      "text/plain": [
       "32"
      ]
     },
     "execution_count": 19,
     "metadata": {},
     "output_type": "execute_result"
    }
   ],
   "source": [
    "n,p = 2,5\n",
    "power(n,p)"
   ]
  },
  {
   "cell_type": "markdown",
   "id": "8a56c654",
   "metadata": {},
   "source": [
    "<aside>\n",
    "💡 **Question 5**\n",
    "\n",
    "Given an array of integers **arr**, the task is to find maximum element of that array using recursion.\n",
    "\n",
    "**Example 1:**\n",
    "\n",
    "Input: arr = {1, 4, 3, -5, -4, 8, 6};\n",
    "Output: 8\n",
    "\n",
    "**Example 2:**\n",
    "\n",
    "Input: arr = {1, 4, 45, 6, 10, -8};\n",
    "Output: 45\n",
    "\n",
    "</aside>"
   ]
  },
  {
   "cell_type": "code",
   "execution_count": 20,
   "id": "1e2ec129",
   "metadata": {},
   "outputs": [],
   "source": [
    "def find_maximum(arr):\n",
    "    'return maximum of the given array'\n",
    "    if len(arr) == 0:\n",
    "        return arr\n",
    "    elif len(arr) == 1:\n",
    "        return arr[0]\n",
    "    else:\n",
    "        mid = len(arr)//2\n",
    "        left_max = find_maximum(arr[:mid])\n",
    "        right_max = find_maximum(arr[mid:])\n",
    "        return max(left_max,right_max)"
   ]
  },
  {
   "cell_type": "code",
   "execution_count": 21,
   "id": "1f3727a5",
   "metadata": {},
   "outputs": [
    {
     "data": {
      "text/plain": [
       "8"
      ]
     },
     "execution_count": 21,
     "metadata": {},
     "output_type": "execute_result"
    }
   ],
   "source": [
    "arr = [1, 4, 3, -5, -4, 8, 6]\n",
    "find_maximum(arr)"
   ]
  },
  {
   "cell_type": "code",
   "execution_count": 22,
   "id": "69d924fa",
   "metadata": {},
   "outputs": [
    {
     "data": {
      "text/plain": [
       "45"
      ]
     },
     "execution_count": 22,
     "metadata": {},
     "output_type": "execute_result"
    }
   ],
   "source": [
    "arr = [1, 4, 45, 6, 10, -8]\n",
    "find_maximum(arr)"
   ]
  },
  {
   "cell_type": "markdown",
   "id": "aa85ecec",
   "metadata": {},
   "source": [
    "<aside>\n",
    "💡 **Question 6**\n",
    "\n",
    "Given first term (a), common difference (d) and a integer N of the Arithmetic Progression series, the task is to find Nth term of the series.\n",
    "\n",
    "**Example 1:**\n",
    "\n",
    "Input : a = 2 d = 1 N = 5\n",
    "Output : 6\n",
    "The 5th term of the series is : 6\n",
    "\n",
    "**Example 2:**\n",
    "\n",
    "Input : a = 5 d = 2 N = 10\n",
    "Output : 23\n",
    "The 10th term of the series is : 23\n",
    "\n",
    "</aside>"
   ]
  },
  {
   "cell_type": "code",
   "execution_count": 23,
   "id": "86cbc0ac",
   "metadata": {},
   "outputs": [],
   "source": [
    "def arithmetic_progression(a,d,N):\n",
    "    'return the Nth term of aritmetic operation'\n",
    "    if N < 0:\n",
    "        return None\n",
    "    elif N == 1:\n",
    "        return a\n",
    "    else:\n",
    "        return arithmetic_progression(a+d,d,N-1)"
   ]
  },
  {
   "cell_type": "code",
   "execution_count": 24,
   "id": "ffd2141c",
   "metadata": {},
   "outputs": [
    {
     "data": {
      "text/plain": [
       "6"
      ]
     },
     "execution_count": 24,
     "metadata": {},
     "output_type": "execute_result"
    }
   ],
   "source": [
    "a = 2 \n",
    "d = 1 \n",
    "N = 5\n",
    "arithmetic_progression(a,d,N)"
   ]
  },
  {
   "cell_type": "code",
   "execution_count": 25,
   "id": "3d5ffaa9",
   "metadata": {},
   "outputs": [
    {
     "data": {
      "text/plain": [
       "23"
      ]
     },
     "execution_count": 25,
     "metadata": {},
     "output_type": "execute_result"
    }
   ],
   "source": [
    "a = 5\n",
    "d = 2 \n",
    "N = 10\n",
    "arithmetic_progression(a,d,N)"
   ]
  },
  {
   "cell_type": "markdown",
   "id": "c6baab65",
   "metadata": {},
   "source": [
    "<aside>\n",
    "💡 **Question 7**\n",
    "\n",
    "Given a string S, the task is to write a program to print all permutations of a given string.\n",
    "\n",
    "**Example 1:**\n",
    "\n",
    "***Input:***\n",
    "\n",
    "*S = “ABC”*\n",
    "\n",
    "***Output:***\n",
    "\n",
    "*“ABC”, “ACB”, “BAC”, “BCA”, “CBA”, “CAB”*\n",
    "\n",
    "**Example 2:**\n",
    "\n",
    "***Input:***\n",
    "\n",
    "*S = “XY”*\n",
    "\n",
    "***Output:***\n",
    "\n",
    "*“XY”, “YX”*\n",
    "\n",
    "</aside>"
   ]
  },
  {
   "cell_type": "code",
   "execution_count": 32,
   "id": "32558cf7",
   "metadata": {},
   "outputs": [],
   "source": [
    "def permute_string(string, left, right):\n",
    "    'return the possible combinations of string'\n",
    "    if left == right:\n",
    "        print(''.join(string))\n",
    "    else:\n",
    "        for i in range(left, right + 1):\n",
    "            # Swap characters\n",
    "            string[left], string[i] = string[i], string[left]  \n",
    "#             print(f'string after {i} iteration: ',string)\n",
    "            # permute the remaining characters\n",
    "            permute_string(string, left + 1, right)  \n",
    "            # Restore the original order\n",
    "            string[left], string[i] = string[i], string[left]  \n",
    "\n",
    "def print_permutations(S):\n",
    "    string = list(S)\n",
    "    n = len(string)\n",
    "    permute_string(string, 0, n - 1)"
   ]
  },
  {
   "cell_type": "code",
   "execution_count": 33,
   "id": "6fb4eb34",
   "metadata": {},
   "outputs": [
    {
     "name": "stdout",
     "output_type": "stream",
     "text": [
      "ABC\n",
      "ACB\n",
      "BAC\n",
      "BCA\n",
      "CBA\n",
      "CAB\n"
     ]
    }
   ],
   "source": [
    "S = \"ABC\"\n",
    "print_permutations(S)"
   ]
  },
  {
   "cell_type": "markdown",
   "id": "f259aaf0",
   "metadata": {},
   "source": [
    "<aside>\n",
    "💡 **Question 8**\n",
    "\n",
    "Given an array, find a product of all array elements.\n",
    "\n",
    "**Example 1:**\n",
    "\n",
    "Input  : arr[] = {1, 2, 3, 4, 5}\n",
    "Output : 120\n",
    "**Example 2:**\n",
    "\n",
    "Input  : arr[] = {1, 6, 3}\n",
    "Output : 18\n",
    "\n",
    "</aside>"
   ]
  },
  {
   "cell_type": "code",
   "execution_count": 34,
   "id": "7a0740dc",
   "metadata": {},
   "outputs": [],
   "source": [
    "def array_product(arr):\n",
    "    'return product of all elements in an array'\n",
    "    if len(arr) == 0:\n",
    "        return None\n",
    "    elif len(arr) == 1:\n",
    "        return arr[0]\n",
    "    else:\n",
    "        return arr[0] * array_product(arr[1:])"
   ]
  },
  {
   "cell_type": "code",
   "execution_count": 35,
   "id": "a5484cb9",
   "metadata": {},
   "outputs": [
    {
     "data": {
      "text/plain": [
       "120"
      ]
     },
     "execution_count": 35,
     "metadata": {},
     "output_type": "execute_result"
    }
   ],
   "source": [
    "arr = [1, 2, 3, 4, 5]\n",
    "array_product(arr)"
   ]
  },
  {
   "cell_type": "code",
   "execution_count": 36,
   "id": "72735b09",
   "metadata": {},
   "outputs": [
    {
     "data": {
      "text/plain": [
       "18"
      ]
     },
     "execution_count": 36,
     "metadata": {},
     "output_type": "execute_result"
    }
   ],
   "source": [
    "arr = [1, 6, 3]\n",
    "array_product(arr)"
   ]
  },
  {
   "cell_type": "code",
   "execution_count": null,
   "id": "68cea5f4",
   "metadata": {},
   "outputs": [],
   "source": []
  }
 ],
 "metadata": {
  "kernelspec": {
   "display_name": "Python 3",
   "language": "python",
   "name": "python3"
  },
  "language_info": {
   "codemirror_mode": {
    "name": "ipython",
    "version": 3
   },
   "file_extension": ".py",
   "mimetype": "text/x-python",
   "name": "python",
   "nbconvert_exporter": "python",
   "pygments_lexer": "ipython3",
   "version": "3.8.8"
  }
 },
 "nbformat": 4,
 "nbformat_minor": 5
}
