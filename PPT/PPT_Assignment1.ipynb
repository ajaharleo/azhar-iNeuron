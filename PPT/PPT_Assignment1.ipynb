{
 "cells": [
  {
   "cell_type": "markdown",
   "id": "ec5b8dae",
   "metadata": {},
   "source": [
    "<aside>\n",
    "💡 **Q1.** Given an array of integers nums and an integer target, return indices of the two numbers such that they add up to target.\n",
    "\n",
    "You may assume that each input would have exactly one solution, and you may not use the same element twice.\n",
    "\n",
    "You can return the answer in any order.\n",
    "\n",
    "**Example:**\n",
    "Input: nums = [2,7,11,15], target = 9\n",
    "Output0 [0,1]\n",
    "\n",
    "**Explanation:** Because nums[0] + nums[1] == 9, we return [0, 1][\n",
    "\n",
    "</aside>"
   ]
  },
  {
   "cell_type": "code",
   "execution_count": 12,
   "id": "5a2970e2",
   "metadata": {},
   "outputs": [],
   "source": [
    "def sum2(nums,target):\n",
    "    '''Return indices of the items in nums which sum are equal to target'''\n",
    "    try:\n",
    "        dct = {}\n",
    "        for i in range(len(nums)):\n",
    "            if target - nums[i] in dct:\n",
    "                return [dct[target-nums[i]],i]\n",
    "            else:\n",
    "                dct[nums[i]] = i\n",
    "        return -1\n",
    "    except Exception as e:\n",
    "        print('Error occured as: ',e)\n",
    "    "
   ]
  },
  {
   "cell_type": "code",
   "execution_count": 13,
   "id": "a418fe0a",
   "metadata": {},
   "outputs": [
    {
     "data": {
      "text/plain": [
       "[0, 1]"
      ]
     },
     "execution_count": 13,
     "metadata": {},
     "output_type": "execute_result"
    }
   ],
   "source": [
    "nums = [2,7,11,15]\n",
    "target = 9\n",
    "sum2(nums,target)"
   ]
  },
  {
   "cell_type": "code",
   "execution_count": 11,
   "id": "00409c71",
   "metadata": {},
   "outputs": [
    {
     "data": {
      "text/plain": [
       "[1, 0]"
      ]
     },
     "execution_count": 11,
     "metadata": {},
     "output_type": "execute_result"
    }
   ],
   "source": [
    "nums = [3,3]\n",
    "target = 6\n",
    "sum2(nums,target)"
   ]
  },
  {
   "cell_type": "markdown",
   "id": "3045f1f6",
   "metadata": {},
   "source": [
    "<aside>\n",
    "💡 **Q2.** Given an integer array nums and an integer val, remove all occurrences of val in nums in-place. The order of the elements may be changed. Then return the number of elements in nums which are not equal to val.\n",
    "\n",
    "Consider the number of elements in nums which are not equal to val be k, to get accepted, you need to do the following things:\n",
    "\n",
    "- Change the array nums such that the first k elements of nums contain the elements which are not equal to val. The remaining elements of nums are not important as well as the size of nums.\n",
    "- Return k.\n",
    "\n",
    "**Example :**\n",
    "Input: nums = [3,2,2,3], val = 3\n",
    "Output: 2, nums = [2,2,_*,_*]\n",
    "\n",
    "**Explanation:** Your function should return k = 2, with the first two elements of nums being 2. It does not matter what you leave beyond the returned k (hence they are underscores)[\n",
    "\n",
    "</aside>"
   ]
  },
  {
   "cell_type": "code",
   "execution_count": 15,
   "id": "027f8ad5",
   "metadata": {},
   "outputs": [],
   "source": [
    "def replace_val(nums,val):\n",
    "    '''Replace val in nums'''\n",
    "    try:\n",
    "        temp = []\n",
    "        for i in nums:\n",
    "            if i != val:\n",
    "                temp.append(i)\n",
    "        nums = temp + ['*'] *(len(nums)-len(temp))\n",
    "        return nums\n",
    "    except Exception as e:\n",
    "        print('Error occured as: ',e)\n",
    "    "
   ]
  },
  {
   "cell_type": "code",
   "execution_count": 16,
   "id": "9c54ca0e",
   "metadata": {},
   "outputs": [
    {
     "data": {
      "text/plain": [
       "[2, 2, '*', '*']"
      ]
     },
     "execution_count": 16,
     "metadata": {},
     "output_type": "execute_result"
    }
   ],
   "source": [
    "nums = [3,2,2,3]\n",
    "val = 3\n",
    "replace_val(nums,val)"
   ]
  },
  {
   "cell_type": "code",
   "execution_count": 17,
   "id": "10f39ced",
   "metadata": {},
   "outputs": [
    {
     "data": {
      "text/plain": [
       "[3, 2, 2, 3]"
      ]
     },
     "execution_count": 17,
     "metadata": {},
     "output_type": "execute_result"
    }
   ],
   "source": [
    "nums = [3,2,2,3]\n",
    "val = 1\n",
    "replace_val(nums,val)"
   ]
  },
  {
   "cell_type": "markdown",
   "id": "7fa54731",
   "metadata": {},
   "source": [
    "<aside>\n",
    "💡 **Q3.** Given a sorted array of distinct integers and a target value, return the index if the target is found. If not, return the index where it would be if it were inserted in order.\n",
    "\n",
    "You must write an algorithm with O(log n) runtime complexity.\n",
    "\n",
    "**Example 1:**\n",
    "Input: nums = [1,3,5,6], target = 5\n",
    "\n",
    "Output: 2\n",
    "\n",
    "</aside>"
   ]
  },
  {
   "cell_type": "code",
   "execution_count": 54,
   "id": "afc62b4d",
   "metadata": {},
   "outputs": [],
   "source": [
    "def searchInsert_index(nums, target):\n",
    "    '''return the index of target if available else return expected index'''\n",
    "    left,right = 0, len(nums) - 1\n",
    "    while left <= right:\n",
    "        mid = left + (right - left) // 2\n",
    "        if nums[mid] == target:\n",
    "            return mid\n",
    "        elif nums[mid] < target:\n",
    "            left = mid + 1\n",
    "        else:\n",
    "            right = mid - 1\n",
    "    return left\n"
   ]
  },
  {
   "cell_type": "code",
   "execution_count": 55,
   "id": "e00c1a7a",
   "metadata": {},
   "outputs": [
    {
     "data": {
      "text/plain": [
       "4"
      ]
     },
     "execution_count": 55,
     "metadata": {},
     "output_type": "execute_result"
    }
   ],
   "source": [
    "nums = [1,3,5,6,8]\n",
    "target = 7\n",
    "searchInsert_index(nums, target)"
   ]
  },
  {
   "cell_type": "markdown",
   "id": "cd63a283",
   "metadata": {},
   "source": [
    "<aside>\n",
    "💡 **Q4.** You are given a large integer represented as an integer array digits, where each digits[i] is the ith digit of the integer. The digits are ordered from most significant to least significant in left-to-right order. The large integer does not contain any leading 0's.\n",
    "\n",
    "Increment the large integer by one and return the resulting array of digits.\n",
    "\n",
    "**Example 1:**\n",
    "Input: digits = [1,2,3]\n",
    "Output: [1,2,4]\n",
    "\n",
    "**Explanation:** The array represents the integer 123.\n",
    "\n",
    "Incrementing by one gives 123 + 1 = 124.\n",
    "Thus, the result should be [1,2,4].\n",
    "\n",
    "</aside>"
   ]
  },
  {
   "cell_type": "code",
   "execution_count": 56,
   "id": "57856886",
   "metadata": {},
   "outputs": [],
   "source": [
    "def increment(digits):\n",
    "    carry = 1\n",
    "    for i in range(len(digits)-1, -1, -1):\n",
    "        digits[i] += carry\n",
    "        if digits[i] < 10:\n",
    "            carry = 0\n",
    "            break\n",
    "        digits[i] = 0\n",
    "    if carry == 1:\n",
    "        digits.insert(0, 1)\n",
    "    return digits\n"
   ]
  },
  {
   "cell_type": "code",
   "execution_count": 60,
   "id": "dd700380",
   "metadata": {},
   "outputs": [
    {
     "data": {
      "text/plain": [
       "[1, 0, 0, 0]"
      ]
     },
     "execution_count": 60,
     "metadata": {},
     "output_type": "execute_result"
    }
   ],
   "source": [
    "digits = [9,9,9]\n",
    "increment(digits)"
   ]
  },
  {
   "cell_type": "markdown",
   "id": "28353d61",
   "metadata": {},
   "source": [
    "<aside>\n",
    "💡 **Q5.** You are given two integer arrays nums1 and nums2, sorted in non-decreasing order, and two integers m and n, representing the number of elements in nums1 and nums2 respectively.\n",
    "\n",
    "Merge nums1 and nums2 into a single array sorted in non-decreasing order.\n",
    "\n",
    "The final sorted array should not be returned by the function, but instead be stored inside the array nums1. To accommodate this, nums1 has a length of m + n, where the first m elements denote the elements that should be merged, and the last n elements are set to 0 and should be ignored. nums2 has a length of n.\n",
    "\n",
    "**Example 1:**\n",
    "Input: nums1 = [1,2,3,0,0,0], m = 3, nums2 = [2,5,6], n = 3\n",
    "Output: [1,2,2,3,5,6]\n",
    "\n",
    "**Explanation:** The arrays we are merging are [1,2,3] and [2,5,6].\n",
    "The result of the merge is [1,2,2,3,5,6] with the underlined elements coming from nums1.\n",
    "\n",
    "</aside>"
   ]
  },
  {
   "cell_type": "code",
   "execution_count": 73,
   "id": "a878dad6",
   "metadata": {},
   "outputs": [],
   "source": [
    "def merger(nums1,m,nums2,n):\n",
    "    '''Merge nums1 and nums2'''\n",
    "    l,r = m-1,n-1\n",
    "    nums1_copy = nums1[:m]\n",
    "    idx = m + n - 1\n",
    "    while l >= 0 and r >= 0:\n",
    "        if nums1[l] < nums2[r]:\n",
    "            nums1[idx] = nums2[r]\n",
    "            r -= 1\n",
    "        elif nums1[l] > nums2[r]:\n",
    "            nums1[idx] = nums1[l]\n",
    "            l -= 1\n",
    "        else:\n",
    "            nums1[idx] = nums2[r]\n",
    "            idx -= 1\n",
    "            nums1[idx] = nums2[r]\n",
    "            l -= 1\n",
    "            r -= 1\n",
    "        idx -= 1\n",
    "    return nums1"
   ]
  },
  {
   "cell_type": "code",
   "execution_count": 74,
   "id": "c361e4ed",
   "metadata": {},
   "outputs": [
    {
     "name": "stdout",
     "output_type": "stream",
     "text": [
      "idx 4\n",
      "idx 3\n",
      "idx 2\n",
      "idx 0\n"
     ]
    },
    {
     "data": {
      "text/plain": [
       "[1, 2, 2, 3, 5, 6]"
      ]
     },
     "execution_count": 74,
     "metadata": {},
     "output_type": "execute_result"
    }
   ],
   "source": [
    "nums1 = [1,2,3,0,0,0]\n",
    "m = 3\n",
    "nums2 = [2,5,6]\n",
    "n = 3\n",
    "merger(nums1,m,nums2,n)"
   ]
  },
  {
   "cell_type": "markdown",
   "id": "58147b2a",
   "metadata": {},
   "source": [
    "<aside>\n",
    "💡 **Q6.** Given an integer array nums, return true if any value appears at least twice in the array, and return false if every element is distinct.\n",
    "\n",
    "**Example 1:**\n",
    "Input: nums = [1,2,3,1]\n",
    "\n",
    "Output: true\n",
    "\n",
    "</aside>"
   ]
  },
  {
   "cell_type": "code",
   "execution_count": 28,
   "id": "5e325f9a",
   "metadata": {},
   "outputs": [],
   "source": [
    "def distinct(nums):\n",
    "    '''return true if at least one value repeats'''\n",
    "    if len(nums) == len(set(nums)):\n",
    "        return False\n",
    "    return True"
   ]
  },
  {
   "cell_type": "code",
   "execution_count": 32,
   "id": "7c163c02",
   "metadata": {},
   "outputs": [
    {
     "data": {
      "text/plain": [
       "True"
      ]
     },
     "execution_count": 32,
     "metadata": {},
     "output_type": "execute_result"
    }
   ],
   "source": [
    "nums = [1,2,3,1]\n",
    "distinct(nums)"
   ]
  },
  {
   "cell_type": "markdown",
   "id": "058d756a",
   "metadata": {},
   "source": [
    "<aside>\n",
    "💡 **Q7.** Given an integer array nums, move all 0's to the end of it while maintaining the relative order of the nonzero elements.\n",
    "\n",
    "Note that you must do this in-place without making a copy of the array.\n",
    "\n",
    "**Example 1:**\n",
    "Input: nums = [0,1,0,3,12]\n",
    "Output: [1,3,12,0,0]\n",
    "\n",
    "</aside>"
   ]
  },
  {
   "cell_type": "code",
   "execution_count": 35,
   "id": "502ddb0a",
   "metadata": {},
   "outputs": [],
   "source": [
    "def move_non_zeros(nums):\n",
    "    '''move all 0s to the end of array'''\n",
    "    try:\n",
    "        non_zero = 0\n",
    "        for num in nums:\n",
    "            if num != 0:\n",
    "                nums[non_zero] = num\n",
    "                non_zero += 1\n",
    "        while non_zero < len(nums):\n",
    "            nums[non_zero] = 0\n",
    "            non_zero += 1\n",
    "        return nums\n",
    "    except Exception as e:\n",
    "        print('Error occured as: ',e)"
   ]
  },
  {
   "cell_type": "code",
   "execution_count": 36,
   "id": "d75c2478",
   "metadata": {},
   "outputs": [
    {
     "data": {
      "text/plain": [
       "[1, 3, 12, 0, 0]"
      ]
     },
     "execution_count": 36,
     "metadata": {},
     "output_type": "execute_result"
    }
   ],
   "source": [
    "nums = [0,1,0,3,12]\n",
    "move_non_zeros(nums)"
   ]
  },
  {
   "cell_type": "markdown",
   "id": "0d223de0",
   "metadata": {},
   "source": [
    "<aside>\n",
    "💡 **Q8.** You have a set of integers s, which originally contains all the numbers from 1 to n. Unfortunately, due to some error, one of the numbers in s got duplicated to another number in the set, which results in repetition of one number and loss of another number.\n",
    "\n",
    "You are given an integer array nums representing the data status of this set after the error.\n",
    "\n",
    "Find the number that occurs twice and the number that is missing and return them in the form of an array.\n",
    "\n",
    "**Example 1:**\n",
    "Input: nums = [1,2,2,4]\n",
    "Output: [2,3]\n",
    "\n",
    "</aside>"
   ]
  },
  {
   "cell_type": "code",
   "execution_count": 47,
   "id": "8377f5e9",
   "metadata": {},
   "outputs": [],
   "source": [
    "def missingNrepeating(nums):\n",
    "    '''find the missing and repeating number from the array'''\n",
    "    duplicate = 0\n",
    "    expected_sum = len(nums)*(len(nums)+1)//2\n",
    "    dct = {}\n",
    "    for num in nums:\n",
    "        if num not in dct:\n",
    "            dct[num] = 1\n",
    "        else:\n",
    "            duplicate = num\n",
    "    missing_num = expected_sum - (sum(nums)-duplicate)\n",
    "    return [duplicate,missing_num ]\n",
    "    return result"
   ]
  },
  {
   "cell_type": "code",
   "execution_count": 48,
   "id": "2171f807",
   "metadata": {},
   "outputs": [
    {
     "data": {
      "text/plain": [
       "[2, 3]"
      ]
     },
     "execution_count": 48,
     "metadata": {},
     "output_type": "execute_result"
    }
   ],
   "source": [
    "nums = [1,2,2,4]\n",
    "missingNrepeating(nums)"
   ]
  },
  {
   "cell_type": "code",
   "execution_count": null,
   "id": "4cf142c0",
   "metadata": {},
   "outputs": [],
   "source": []
  }
 ],
 "metadata": {
  "kernelspec": {
   "display_name": "Python 3",
   "language": "python",
   "name": "python3"
  },
  "language_info": {
   "codemirror_mode": {
    "name": "ipython",
    "version": 3
   },
   "file_extension": ".py",
   "mimetype": "text/x-python",
   "name": "python",
   "nbconvert_exporter": "python",
   "pygments_lexer": "ipython3",
   "version": "3.8.8"
  }
 },
 "nbformat": 4,
 "nbformat_minor": 5
}
