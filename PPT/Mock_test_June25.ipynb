{
 "cells": [
  {
   "cell_type": "markdown",
   "id": "15fa93bc",
   "metadata": {},
   "source": [
    "Implement a stack using a list in Python. Include the necessary methods such as push, pop, and isEmpty"
   ]
  },
  {
   "cell_type": "code",
   "execution_count": 1,
   "id": "a9590de0",
   "metadata": {},
   "outputs": [],
   "source": [
    "class Stack:\n",
    "    def __init__(self):\n",
    "        self.stack = []\n",
    "\n",
    "    def push(self, item):\n",
    "        self.stack.append(item)\n",
    "\n",
    "    def pop(self):\n",
    "        try:\n",
    "            return self.stack.pop()\n",
    "        except:\n",
    "            raise IndexError(\"Sorry !!! Stack is empty\")\n",
    "        \n",
    "\n",
    "    def isEmpty(self):\n",
    "        return len(self.stack) == 0"
   ]
  },
  {
   "cell_type": "code",
   "execution_count": 2,
   "id": "05d026fa",
   "metadata": {},
   "outputs": [
    {
     "name": "stdout",
     "output_type": "stream",
     "text": [
      "33\n",
      "False\n",
      "32\n",
      "21\n",
      "True\n"
     ]
    }
   ],
   "source": [
    "stack = Stack()\n",
    "stack.push(21)\n",
    "stack.push(32)\n",
    "stack.push(33)\n",
    "print(stack.pop())\n",
    "print(stack.isEmpty())\n",
    "print(stack.pop())\n",
    "print(stack.pop())\n",
    "print(stack.isEmpty())\n"
   ]
  },
  {
   "cell_type": "markdown",
   "id": "93f21e54",
   "metadata": {},
   "source": [
    "Implement a queue using a list in Python. Include the necessary methods such as enqueue, dequeue, and isEmpty."
   ]
  },
  {
   "cell_type": "code",
   "execution_count": 5,
   "id": "9f65e988",
   "metadata": {},
   "outputs": [],
   "source": [
    "class Queue:\n",
    "    def __init__(self):\n",
    "        self.queue = []\n",
    "\n",
    "    def enqueue(self, item):\n",
    "        self.queue.append(item)\n",
    "\n",
    "    def dequeue(self):\n",
    "        try:\n",
    "            return self.queue.pop(0)\n",
    "        except:\n",
    "            raise IndexError(\"Sorry !!! Stack is empty\")\n",
    "\n",
    "    def isEmpty(self):\n",
    "        return len(self.queue) == 0\n"
   ]
  },
  {
   "cell_type": "code",
   "execution_count": 6,
   "id": "58c1eb5a",
   "metadata": {},
   "outputs": [
    {
     "name": "stdout",
     "output_type": "stream",
     "text": [
      "10\n",
      "False\n",
      "20\n",
      "100\n",
      "True\n"
     ]
    }
   ],
   "source": [
    "queue = Queue()\n",
    "queue.enqueue(10)\n",
    "queue.enqueue(20)\n",
    "queue.enqueue(100)\n",
    "print(queue.dequeue())\n",
    "print(queue.isEmpty())\n",
    "print(queue.dequeue())\n",
    "print(queue.dequeue())\n",
    "print(queue.isEmpty())\n"
   ]
  },
  {
   "cell_type": "code",
   "execution_count": null,
   "id": "895d9ffb",
   "metadata": {},
   "outputs": [],
   "source": []
  }
 ],
 "metadata": {
  "kernelspec": {
   "display_name": "Python 3",
   "language": "python",
   "name": "python3"
  },
  "language_info": {
   "codemirror_mode": {
    "name": "ipython",
    "version": 3
   },
   "file_extension": ".py",
   "mimetype": "text/x-python",
   "name": "python",
   "nbconvert_exporter": "python",
   "pygments_lexer": "ipython3",
   "version": "3.8.8"
  }
 },
 "nbformat": 4,
 "nbformat_minor": 5
}
