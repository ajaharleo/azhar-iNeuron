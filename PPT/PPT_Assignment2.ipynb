{
 "cells": [
  {
   "cell_type": "markdown",
   "id": "c824664a",
   "metadata": {},
   "source": [
    "<aside>\n",
    "💡 Given an integer array nums of 2n integers, group these integers into n pairs (a1, b1), (a2, b2),..., (an, bn) such that the sum of min(ai, bi) for all i is maximized. Return the maximized sum.\n",
    "\n",
    "**Example 1:**\n",
    "Input: nums = [1,4,3,2]\n",
    "Output: 4\n",
    "\n",
    "**Explanation:** All possible pairings (ignoring the ordering of elements) are:\n",
    "\n",
    "1. (1, 4), (2, 3) -> min(1, 4) + min(2, 3) = 1 + 2 = 3\n",
    "2. (1, 3), (2, 4) -> min(1, 3) + min(2, 4) = 1 + 2 = 3\n",
    "3. (1, 2), (3, 4) -> min(1, 2) + min(3, 4) = 1 + 3 = 4\n",
    "So the maximum possible sum is 4\n",
    "</aside>"
   ]
  },
  {
   "cell_type": "code",
   "execution_count": 20,
   "id": "1397d01c",
   "metadata": {},
   "outputs": [],
   "source": [
    "def maximised(nums):\n",
    "    'return the max sum of all (ai,bi)'\n",
    "    nums.sort()\n",
    "    ans = 0\n",
    "    for i in range(0,len(nums),2):\n",
    "        ans += min(nums[i],nums[i+1])\n",
    "    return ans"
   ]
  },
  {
   "cell_type": "code",
   "execution_count": 21,
   "id": "1d876d9b",
   "metadata": {},
   "outputs": [
    {
     "data": {
      "text/plain": [
       "4"
      ]
     },
     "execution_count": 21,
     "metadata": {},
     "output_type": "execute_result"
    }
   ],
   "source": [
    "nums = [1,4,3,2]\n",
    "maximised(nums)"
   ]
  },
  {
   "cell_type": "markdown",
   "id": "d5f015b5",
   "metadata": {},
   "source": [
    "Question 2\n",
    "Alice has n candies, where the ith candy is of type candyType[i]. Alice noticed that she started to gain weight, so she visited a doctor. \n",
    "\n",
    "The doctor advised Alice to only eat n / 2 of the candies she has (n is always even). Alice likes her candies very much, and she wants to eat the maximum number of different types of candies while still following the doctor's advice. \n",
    "\n",
    "Given the integer array candyType of length n, return the maximum number of different types of candies she can eat if she only eats n / 2 of them.\n",
    "\n",
    "Example 1:\n",
    "Input: candyType = [1,1,2,2,3,3]\n",
    "Output: 3\n",
    "\n",
    "Explanation: Alice can only eat 6 / 2 = 3 candies. Since there are only 3 types, she can eat one of each type."
   ]
  },
  {
   "cell_type": "code",
   "execution_count": 22,
   "id": "cccf651c",
   "metadata": {},
   "outputs": [],
   "source": [
    "def candySuggestion(candyType):\n",
    "    'return the maximum type of distinct candies'\n",
    "    distinctCandies = set(candyType)\n",
    "    if len(distinctCandies) < len(candyType)//2:\n",
    "        return len(distinctCandies)\n",
    "    else:\n",
    "        return len(candyType)//2"
   ]
  },
  {
   "cell_type": "code",
   "execution_count": 23,
   "id": "396d4d42",
   "metadata": {},
   "outputs": [
    {
     "data": {
      "text/plain": [
       "3"
      ]
     },
     "execution_count": 23,
     "metadata": {},
     "output_type": "execute_result"
    }
   ],
   "source": [
    "candyType = [1,1,2,2,3,3]\n",
    "candySuggestion(candyType)"
   ]
  },
  {
   "cell_type": "markdown",
   "id": "d7942616",
   "metadata": {},
   "source": [
    "Question 3\n",
    "We define a harmonious array as an array where the difference between its maximum value\n",
    "and its minimum value is exactly 1.\n",
    "\n",
    "Given an integer array nums, return the length of its longest harmonious subsequence\n",
    "among all its possible subsequences.\n",
    "\n",
    "A subsequence of an array is a sequence that can be derived from the array by deleting some or no elements without changing the order of the remaining elements.\n",
    "\n",
    "Example 1:\n",
    "Input: nums = [1,3,2,2,5,2,3,7]\n",
    "Output: 5\n",
    "\n",
    "Explanation: The longest harmonious subsequence is [3,2,2,2,3]."
   ]
  },
  {
   "cell_type": "code",
   "execution_count": 24,
   "id": "4732ff65",
   "metadata": {},
   "outputs": [],
   "source": [
    "def harmonious(nums):\n",
    "    'return the length of longest harmonnious subsequence'\n",
    "    num_counts = {}\n",
    "    for num in nums:\n",
    "        if num in num_counts:\n",
    "            num_counts[num] += 1\n",
    "        else:\n",
    "            num_counts[num] = 1\n",
    "    max_length_harmonious = 0\n",
    "    for num in num_counts:\n",
    "        if num+1 in num_counts:\n",
    "            curr_harmonious_len = num_counts[num] + num_counts[num+1]\n",
    "            max_length_harmonious = max(curr_harmonious_len,max_length_harmonious)\n",
    "    return max_length_harmonious"
   ]
  },
  {
   "cell_type": "code",
   "execution_count": 25,
   "id": "e8f9f5eb",
   "metadata": {},
   "outputs": [
    {
     "data": {
      "text/plain": [
       "5"
      ]
     },
     "execution_count": 25,
     "metadata": {},
     "output_type": "execute_result"
    }
   ],
   "source": [
    "nums = [1,3,2,2,5,2,3,7]\n",
    "harmonious(nums)"
   ]
  },
  {
   "cell_type": "markdown",
   "id": "02c388e5",
   "metadata": {},
   "source": [
    "Question 4\n",
    "You have a long flowerbed in which some of the plots are planted, and some are not.\n",
    "However, flowers cannot be planted in adjacent plots.\n",
    "Given an integer array flowerbed containing 0's and 1's, where 0 means empty and 1 means not empty, and an integer n, return true if n new flowers can be planted in the flowerbed without violating the no-adjacent-flowers rule and false otherwise.\n",
    "\n",
    "Example 1:\n",
    "Input: flowerbed = [1,0,0,0,1], n = 1\n",
    "Output: true"
   ]
  },
  {
   "cell_type": "code",
   "execution_count": 26,
   "id": "eb54f142",
   "metadata": {},
   "outputs": [],
   "source": [
    "def flowers(flowerbed, n):\n",
    "    'return true if n plants can be planted in flowerbed'\n",
    "    max_availabel_spots = 0\n",
    "    i = 0\n",
    "    for i in range(len(flowerbed)):\n",
    "        if flowerbed[i] == 0 and (i == 0 or flowerbed[i - 1] == 0) and (i == len(flowerbed) - 1 or flowerbed[i + 1] == 0):\n",
    "            flowerbed[i] = 1\n",
    "            max_availabel_spots += 1\n",
    "        if max_availabel_spots >= n:\n",
    "            return True\n",
    "    return False"
   ]
  },
  {
   "cell_type": "code",
   "execution_count": 27,
   "id": "62c8afac",
   "metadata": {},
   "outputs": [
    {
     "data": {
      "text/plain": [
       "True"
      ]
     },
     "execution_count": 27,
     "metadata": {},
     "output_type": "execute_result"
    }
   ],
   "source": [
    "flowerbed = [1,0,0,0,1]\n",
    "n = 1\n",
    "flowers(flowerbed,n)"
   ]
  },
  {
   "cell_type": "markdown",
   "id": "fec357da",
   "metadata": {},
   "source": [
    "Question 5\n",
    "Given an integer array nums, find three numbers whose product is maximum and return the maximum product.\n",
    "\n",
    "Example 1:\n",
    "Input: nums = [1,2,3]\n",
    "Output: 6"
   ]
  },
  {
   "cell_type": "code",
   "execution_count": 28,
   "id": "c8f73d1a",
   "metadata": {},
   "outputs": [],
   "source": [
    "def maxProduct(nums):\n",
    "    'return the max of product of three numbers'\n",
    "    nums.sort()\n",
    "    return max(nums[-3]*nums[-2]*nums[-1],nums[0]*nums[1]*nums[-1])"
   ]
  },
  {
   "cell_type": "code",
   "execution_count": 29,
   "id": "21e3f3c9",
   "metadata": {},
   "outputs": [
    {
     "data": {
      "text/plain": [
       "6"
      ]
     },
     "execution_count": 29,
     "metadata": {},
     "output_type": "execute_result"
    }
   ],
   "source": [
    "nums = [1,2,3]\n",
    "maxProduct(nums)"
   ]
  },
  {
   "cell_type": "markdown",
   "id": "a9025409",
   "metadata": {},
   "source": [
    "Question 6\n",
    "Given an array of integers nums which is sorted in ascending order, and an integer target,\n",
    "write a function to search target in nums. If target exists, then return its index. Otherwise,\n",
    "return -1.\n",
    "\n",
    "You must write an algorithm with O(log n) runtime complexity.\n",
    "\n",
    "Input: nums = [-1,0,3,5,9,12], target = 9\n",
    "Output: 4\n",
    "\n",
    "Explanation: 9 exists in nums and its index is 4"
   ]
  },
  {
   "cell_type": "code",
   "execution_count": 30,
   "id": "95c27b8b",
   "metadata": {},
   "outputs": [],
   "source": [
    "def binarySearch(nums,target):\n",
    "    'return the index of target in nums else return -1'\n",
    "    l,r = 0,len(nums)-1\n",
    "    while l < r:\n",
    "        mid = l +(r-l)//2\n",
    "        if nums[mid] == target:\n",
    "            return mid\n",
    "        elif nums[mid] < target:\n",
    "            l += 1\n",
    "        else:\n",
    "            r -= 1\n",
    "    return -1"
   ]
  },
  {
   "cell_type": "code",
   "execution_count": 31,
   "id": "b6f43f61",
   "metadata": {},
   "outputs": [
    {
     "data": {
      "text/plain": [
       "4"
      ]
     },
     "execution_count": 31,
     "metadata": {},
     "output_type": "execute_result"
    }
   ],
   "source": [
    "nums = [-1,0,3,5,9,12]\n",
    "target = 9\n",
    "binarySearch(nums,target)"
   ]
  },
  {
   "cell_type": "markdown",
   "id": "746b3184",
   "metadata": {},
   "source": [
    "Question 7\n",
    "An array is monotonic if it is either monotone increasing or monotone decreasing.\n",
    "\n",
    "An array nums is monotone increasing if for all i <= j, nums[i] <= nums[j]. An array nums is\n",
    "monotone decreasing if for all i <= j, nums[i] >= nums[j].\n",
    "\n",
    "Given an integer array nums, return true if the given array is monotonic, or false otherwise.\n",
    "\n",
    "Example 1:\n",
    "Input: nums = [1,2,2,3]\n",
    "Output: true"
   ]
  },
  {
   "cell_type": "code",
   "execution_count": 32,
   "id": "d5226059",
   "metadata": {},
   "outputs": [],
   "source": [
    "def monotonic(nums):\n",
    "    'return true if nums is either monotone increasing or decreasing else return false'\n",
    "    monotone_increasing = True\n",
    "    monotone_decreasing = True\n",
    "    for i in range(1,len(nums)):\n",
    "        if nums[i] < nums[i-1]:\n",
    "            monotone_increasing = False\n",
    "        if nums[i] > nums[i-1]:\n",
    "            monotone_decreasing = False\n",
    "    return monotone_increasing or monotone_decreasing"
   ]
  },
  {
   "cell_type": "code",
   "execution_count": 33,
   "id": "a9d6363d",
   "metadata": {},
   "outputs": [
    {
     "data": {
      "text/plain": [
       "True"
      ]
     },
     "execution_count": 33,
     "metadata": {},
     "output_type": "execute_result"
    }
   ],
   "source": [
    "nums = [1,2,2,3]\n",
    "monotonic(nums)"
   ]
  },
  {
   "cell_type": "markdown",
   "id": "6e31cc63",
   "metadata": {},
   "source": [
    "Question 8\n",
    "You are given an integer array nums and an integer k.\n",
    "\n",
    "In one operation, you can choose any index i where 0 <= i < nums.length and change nums[i] to nums[i] + x where x is an integer from the range [-k, k]. You can apply this operation at most once for each index i.\n",
    "\n",
    "The score of nums is the difference between the maximum and minimum elements in nums.\n",
    "\n",
    "Return the minimum score of nums after applying the mentioned operation at most once for each index in it.\n",
    "\n",
    "Example 1:\n",
    "Input: nums = [1], k = 0\n",
    "Output: 0\n",
    "\n",
    "Explanation: The score is max(nums) - min(nums) = 1 - 1 = 0."
   ]
  },
  {
   "cell_type": "code",
   "execution_count": 34,
   "id": "134dc6cf",
   "metadata": {},
   "outputs": [],
   "source": [
    "def min_score(nums,k):\n",
    "    'return the minimum score'\n",
    "    nums.sort()\n",
    "    min_score = nums[-1] - nums[0]\n",
    "    num = 0\n",
    "    while num < len(nums)-1:\n",
    "        max_value = max(nums[num] + k, nums[-1] - k)\n",
    "        min_value = min(nums[num+1] - k, nums[0] + k)\n",
    "        min_score = min(min_score, max_value - min_value)\n",
    "        num += 1\n",
    "    return min_score"
   ]
  },
  {
   "cell_type": "code",
   "execution_count": 35,
   "id": "71e30659",
   "metadata": {},
   "outputs": [
    {
     "data": {
      "text/plain": [
       "0"
      ]
     },
     "execution_count": 35,
     "metadata": {},
     "output_type": "execute_result"
    }
   ],
   "source": [
    "nums = [1]\n",
    "k = 0\n",
    "min_score(nums,k)"
   ]
  },
  {
   "cell_type": "code",
   "execution_count": null,
   "id": "7e6e764e",
   "metadata": {},
   "outputs": [],
   "source": []
  }
 ],
 "metadata": {
  "kernelspec": {
   "display_name": "Python 3",
   "language": "python",
   "name": "python3"
  },
  "language_info": {
   "codemirror_mode": {
    "name": "ipython",
    "version": 3
   },
   "file_extension": ".py",
   "mimetype": "text/x-python",
   "name": "python",
   "nbconvert_exporter": "python",
   "pygments_lexer": "ipython3",
   "version": "3.8.8"
  }
 },
 "nbformat": 4,
 "nbformat_minor": 5
}
